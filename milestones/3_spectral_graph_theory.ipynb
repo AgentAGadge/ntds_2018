{
 "cells": [
  {
   "cell_type": "markdown",
   "metadata": {},
   "source": [
    "# [NTDS'18] milestone 3: spectral graph theory\n",
    "[ntds'18]: https://github.com/mdeff/ntds_2018\n",
    "\n",
    "[Michaël Defferrard](http://deff.ch), [EPFL LTS2](https://lts2.epfl.ch)"
   ]
  },
  {
   "cell_type": "markdown",
   "metadata": {},
   "source": [
    "## Students\n",
    "\n",
    "* Team: `Team 07`\n",
    "* Students: `Mathieu Lamiot, Julien Heitmann, Louis Landelle, Mathias Goncalves`\n",
    "* Dataset: `US Senators`"
   ]
  },
  {
   "cell_type": "markdown",
   "metadata": {},
   "source": [
    "## Rules\n",
    "\n",
    "* Milestones have to be completed by teams. No collaboration between teams is allowed.\n",
    "* Textual answers shall be short. Typically one to two sentences.\n",
    "* Code has to be clean.\n",
    "* You cannot import any other library than we imported.\n",
    "* When submitting, the notebook is executed and the results are stored. I.e., if you open the notebook again it should show numerical results and plots. We won't be able to execute your notebooks.\n",
    "* The notebook is re-executed from a blank state before submission. That is to be sure it is reproducible. You can click \"Kernel\" then \"Restart & Run All\" in Jupyter."
   ]
  },
  {
   "cell_type": "markdown",
   "metadata": {},
   "source": [
    "## Objective\n",
    "\n",
    "The goal of this milestone is to get familiar with the graph Laplacian and its spectral decomposition."
   ]
  },
  {
   "cell_type": "markdown",
   "metadata": {},
   "source": [
    "## 0 Load your network"
   ]
  },
  {
   "cell_type": "code",
   "execution_count": 2,
   "metadata": {},
   "outputs": [],
   "source": [
    "%matplotlib inline"
   ]
  },
  {
   "cell_type": "markdown",
   "metadata": {},
   "source": [
    "If you get a `No module named 'sklearn'` error when running the below cell, install [scikit-learn](https://scikit-learn.org) with `conda install scikit-learn` (after activating the `ntds_2018` environment)."
   ]
  },
  {
   "cell_type": "code",
   "execution_count": 3,
   "metadata": {},
   "outputs": [],
   "source": [
    "import numpy as np\n",
    "from scipy import sparse\n",
    "import scipy.sparse.linalg\n",
    "import matplotlib.pyplot as plt\n",
    "from sklearn.cluster import KMeans"
   ]
  },
  {
   "cell_type": "markdown",
   "metadata": {},
   "source": [
    "Let's denote your graph as $\\mathcal{G} = (\\mathcal{V}, \\mathcal{E}, A)$, where $\\mathcal{V}$ is the set of nodes, $\\mathcal{E}$ is the set of edges, $A \\in \\mathbb{R}^{N \\times N}$ is the (weighted) adjacency matrix, and $N = |\\mathcal{V}|$ is the number of nodes.\n",
    "\n",
    "Import the adjacency matrix $A$ that you constructed in the first milestone.\n",
    "(You're allowed to update it between milestones if you want to.)"
   ]
  },
  {
   "cell_type": "code",
   "execution_count": 4,
   "metadata": {},
   "outputs": [],
   "source": [
    "adjacency = np.load(\"adjacency.npy\")\n",
    "n_nodes =  adjacency.shape[0]"
   ]
  },
  {
   "cell_type": "markdown",
   "metadata": {},
   "source": [
    "## 1 Graph Laplacian"
   ]
  },
  {
   "cell_type": "markdown",
   "metadata": {},
   "source": [
    "### Question 1\n",
    "\n",
    "From the (weighted) adjacency matrix $A$, compute both the combinatorial (also called unnormalized) and the normalized graph Laplacian matrices.\n",
    "\n",
    "Note: if your graph is weighted, use the weighted adjacency matrix. If not, use the binary adjacency matrix.\n",
    "\n",
    "For efficient storage and computation, store these sparse matrices in a [compressed sparse row (CSR) format](https://en.wikipedia.org/wiki/Sparse_matrix#Compressed_sparse_row_.28CSR.2C_CRS_or_Yale_format.29)."
   ]
  },
  {
   "cell_type": "code",
   "execution_count": 5,
   "metadata": {},
   "outputs": [],
   "source": [
    "degree_vect = np.sum(adjacency,axis=1)\n",
    "degree_matrix = np.diag(degree_vect)\n",
    "\n",
    "laplacian_combinatorial = degree_matrix-adjacency\n",
    "\n",
    "d_inv_sqrt = np.diag(np.power(degree_vect, -0.5, where = degree_vect>0))\n",
    "laplacian_normalized = d_inv_sqrt.dot(laplacian_combinatorial).dot(d_inv_sqrt)"
   ]
  },
  {
   "cell_type": "markdown",
   "metadata": {},
   "source": [
    "Use one of them as the graph Laplacian $L$ for the rest of the milestone.\n",
    "We however encourage you to run the code with both to get a sense of the difference!"
   ]
  },
  {
   "cell_type": "code",
   "execution_count": 6,
   "metadata": {},
   "outputs": [],
   "source": [
    "laplacian =  laplacian_combinatorial\n",
    "laplacian_csr = scipy.sparse.csr_matrix(laplacian)"
   ]
  },
  {
   "cell_type": "markdown",
   "metadata": {},
   "source": [
    "### Question 2\n",
    "\n",
    "Compute the eigendecomposition of the Laplacian $L = U \\Lambda U^\\top$, where the columns $u_k \\in \\mathbb{R}^N$ of $U = [u_1, \\dots, u_N] \\in \\mathbb{R}^{N \\times N}$ are the eigenvectors and the diagonal elements $\\lambda_k = \\Lambda_{kk}$ are the corresponding eigenvalues.\n",
    "\n",
    "Make sure that the eigenvalues are ordered, i.e., $0 = \\lambda_1 \\leq \\lambda_2 \\leq \\dots \\leq \\lambda_N$."
   ]
  },
  {
   "cell_type": "code",
   "execution_count": 47,
   "metadata": {},
   "outputs": [],
   "source": [
    "# Using non-sparse laplacian\n",
    "eigenvalues, eigenvectors = scipy.linalg.eigh(laplacian)\n",
    "eigenvalues_normalized, eigenvectors_normalized = scipy.linalg.eigh(laplacian_normalized)\n",
    "\n",
    "# Using sparse laplacian - Missing the last eigenvalue\n",
    "eigenvalues2, eigenvectors2 = sparse.linalg.eigsh(laplacian_csr, k= n_nodes-1,which = 'SM')\n",
    "\n",
    "assert eigenvectors.shape == (n_nodes, n_nodes)"
   ]
  },
  {
   "cell_type": "markdown",
   "metadata": {},
   "source": [
    "Justify your choice of eigensolver."
   ]
  },
  {
   "cell_type": "markdown",
   "metadata": {},
   "source": [
    "We first tried to take advantage of the sparsity of the laplacian matrix, but unforutnately scipy methods for solving eigenproblems with CSR formatted matrix can't return all the eigenvalues and eigenvectors (k has to be < `n_node`). This limitation prevented us from passing the assertion.\n",
    "So we ended up going for `scipy.linalg.eigh()`, which works on a dense formatted matrix. Since our graph undirected, the lapacian is real symetric matrix to we can use `scipy.linalg.eigh()` instead of `scipy.linalg.eig()`.\n",
    "\n",
    "Since our network is relatively small, computation time is still faste enough, even without taking advantage of sparsity. Note that both methods return similar results (except for the last eigenvalue, not returned by the sparse method.)"
   ]
  },
  {
   "cell_type": "markdown",
   "metadata": {},
   "source": [
    "### Question 3\n",
    "\n",
    "We can write $L = S S^\\top$. What is the matrix $S$? What does $S^\\top x$, with $x \\in \\mathbb{R}^N$, compute?"
   ]
  },
  {
   "cell_type": "markdown",
   "metadata": {},
   "source": [
    "It is the incidence matrix. As our graph is weighted and undirected, we took a definition adpated from the one presented in class. It is defined as :\n",
    "\n",
    "$S(i,j) = W_{(i,k)} \\ if e_j=\\{v_i,v_k\\}\\ and \\ i<k \\ for \\ some \\ k $\n",
    "\n",
    "$S(i,j) = -W_{(i,k)} \\ if e_j=\\{v_i,v_k\\}\\ and \\ i>k \\ for \\ some \\ k $\n",
    "\n",
    "$S(i,j) = 0 \\ otherwise$\n",
    "\n",
    "Basically, we make our graph directed (from low-indice vertices to high-indice vertices) is order to be able to apply the definition seen in class. Doing so, the property $L = S S^\\top$ holds, and the the \"smoothness of a signal\" notion is preserved, as discussed in the following."
   ]
  },
  {
   "cell_type": "markdown",
   "metadata": {},
   "source": [
    "### Question 4\n",
    "\n",
    "Show that $\\lambda_k = \\| S^\\top u_k \\|_2^2$, where $\\| \\cdot \\|_2^2$ denotes the squared Euclidean norm (a.k.a. squared $L^2$ norm)."
   ]
  },
  {
   "cell_type": "markdown",
   "metadata": {},
   "source": [
    "**Your answer here.**\n",
    "\n",
    "$\\| S^\\top u_k \\|_2^2 = <S^\\top u_k,S^\\top u_k> = u_k^\\top S S^\\top u_k  = u_k^\\top L u_k $\n",
    "\n",
    "$u_k$ being the k-th eigenvector of L: \n",
    "\n",
    "$\\| S^\\top u_k \\|_2^2 = \\lambda_k <u_k,u_k>$\n",
    "\n",
    "Hence: \n",
    "\n",
    "$\\| S^\\top u_k \\|_2^2 = \\lambda_k$ "
   ]
  },
  {
   "cell_type": "markdown",
   "metadata": {},
   "source": [
    "What does the quantity $\\| S^\\top x \\|_2^2$ tell us about $x$?"
   ]
  },
  {
   "cell_type": "markdown",
   "metadata": {},
   "source": [
    "**Your answer here.**\n",
    "\n",
    "Consider the k-th element of x as a value assigned to the k-th node of the network. Hence x can be seen as a signal over the network. Let $y = S^\\top x $. \n",
    "\n",
    "Then, the k-th element of y is the difference of the signal x between the two nodes linked by the k-th vertex of the network (multiply by its weigth).\n",
    "\n",
    "Hence, $\\| S^\\top x \\|_2^2$ is the sum of the squares of those differences. It is a measure of the variations of the signal x on the network. High values means a non-smooth signal over the network, whereas small values reflect a signal with low variation across the network."
   ]
  },
  {
   "cell_type": "markdown",
   "metadata": {},
   "source": [
    "### Question 5\n",
    "\n",
    "What is the value of $u_0$, both for the combinatorial and normalized Laplacians?"
   ]
  },
  {
   "cell_type": "markdown",
   "metadata": {},
   "source": [
    "**Your annswer here.**\n",
    "\n",
    "$u_0$ is an indicator function of a connected component of the graph. In our graph, we have one isolated node and the 99 others nodes form a connected component. Hence, we have twice the eigenvalue 0. $u_0$ and $u_1$ are the indicator functions of those 2 connected components, normalized. So they have positive values over the related connected components, and have zero value elsewhere."
   ]
  },
  {
   "cell_type": "code",
   "execution_count": 8,
   "metadata": {},
   "outputs": [
    {
     "data": {
      "text/plain": [
       "array([ 3.92678559e-49,  5.71857055e-17,  1.72848167e-16, -1.11269060e-16,\n",
       "       -3.97549442e-18,  1.07267110e-16,  3.87667310e-18, -9.41636138e-17,\n",
       "       -1.55293784e-16,  3.55292316e-17,  2.72420834e-17, -7.13412133e-17,\n",
       "        4.17355704e-17, -6.16279536e-18,  2.49137638e-17, -1.54388641e-18,\n",
       "       -3.11755950e-17,  1.21999746e-17,  6.69920021e-17, -3.65812979e-17,\n",
       "       -5.78458835e-19,  5.50528148e-17,  1.70852539e-17, -4.22361575e-17,\n",
       "       -8.17788613e-17,  8.67728901e-19,  1.17161657e-18, -4.43714666e-17,\n",
       "       -8.17272596e-18, -3.62098317e-17, -1.03783031e-17, -7.80495120e-17,\n",
       "       -2.02995961e-18,  1.15155230e-16,  3.47033791e-18, -6.50711004e-17,\n",
       "       -3.14013110e-18,  3.25751279e-18, -1.58695085e-19, -7.91183973e-17,\n",
       "        8.79221253e-17,  1.44670908e-18,  5.38811850e-18, -1.03101153e-16,\n",
       "        2.84298896e-17,  6.96665436e-19, -5.06411762e-18, -8.26196412e-17,\n",
       "        4.02240034e-17, -1.62799289e-18,  2.61867594e-17,  4.59359412e-20,\n",
       "       -1.53476569e-18,  6.77577750e-17, -1.00000000e+00, -6.35319976e-18,\n",
       "       -1.71087422e-16, -3.23081220e-18,  1.97494877e-18,  4.65963003e-18,\n",
       "       -2.34276629e-18,  4.51911028e-17, -1.82047340e-17,  6.54550342e-18,\n",
       "       -3.38032342e-17, -3.18152408e-18,  1.46877242e-16, -3.62043234e-17,\n",
       "        3.29253494e-18, -2.62518227e-18,  6.86886729e-17,  3.24890985e-17,\n",
       "       -1.71300921e-17,  9.88473661e-17,  2.45521588e-18, -1.39073821e-17,\n",
       "       -1.88369417e-17, -4.28850912e-18,  3.47212765e-18,  6.75941043e-18,\n",
       "        7.24614442e-17, -7.78171728e-17, -2.30972651e-17,  3.82906653e-17,\n",
       "       -3.60785813e-17, -6.61595635e-20,  2.32788578e-17,  6.98109522e-17,\n",
       "        2.34944711e-17, -2.64632098e-17,  4.66809444e-17, -2.96343924e-18,\n",
       "       -6.93867555e-18,  5.13355890e-19, -2.20668124e-19,  4.35258614e-18,\n",
       "       -6.70281161e-17,  1.71739606e-17, -1.43558635e-18,  8.79415824e-18])"
      ]
     },
     "execution_count": 8,
     "metadata": {},
     "output_type": "execute_result"
    }
   ],
   "source": [
    "#Indicator function of the first connected component: An isolated node.\n",
    "eigenvectors[:,0]"
   ]
  },
  {
   "cell_type": "code",
   "execution_count": 9,
   "metadata": {},
   "outputs": [
    {
     "data": {
      "text/plain": [
       "array([0.10050378, 0.10050378, 0.10050378, 0.10050378, 0.10050378,\n",
       "       0.10050378, 0.10050378, 0.10050378, 0.10050378, 0.10050378,\n",
       "       0.10050378, 0.10050378, 0.10050378, 0.10050378, 0.10050378,\n",
       "       0.10050378, 0.10050378, 0.10050378, 0.10050378, 0.10050378,\n",
       "       0.10050378, 0.10050378, 0.10050378, 0.10050378, 0.10050378,\n",
       "       0.10050378, 0.10050378, 0.10050378, 0.10050378, 0.10050378,\n",
       "       0.10050378, 0.10050378, 0.10050378, 0.10050378, 0.10050378,\n",
       "       0.10050378, 0.10050378, 0.10050378, 0.10050378, 0.10050378,\n",
       "       0.10050378, 0.10050378, 0.10050378, 0.10050378, 0.10050378,\n",
       "       0.10050378, 0.10050378, 0.10050378, 0.10050378, 0.10050378,\n",
       "       0.10050378, 0.10050378, 0.10050378, 0.10050378, 0.        ,\n",
       "       0.10050378, 0.10050378, 0.10050378, 0.10050378, 0.10050378,\n",
       "       0.10050378, 0.10050378, 0.10050378, 0.10050378, 0.10050378,\n",
       "       0.10050378, 0.10050378, 0.10050378, 0.10050378, 0.10050378,\n",
       "       0.10050378, 0.10050378, 0.10050378, 0.10050378, 0.10050378,\n",
       "       0.10050378, 0.10050378, 0.10050378, 0.10050378, 0.10050378,\n",
       "       0.10050378, 0.10050378, 0.10050378, 0.10050378, 0.10050378,\n",
       "       0.10050378, 0.10050378, 0.10050378, 0.10050378, 0.10050378,\n",
       "       0.10050378, 0.10050378, 0.10050378, 0.10050378, 0.10050378,\n",
       "       0.10050378, 0.10050378, 0.10050378, 0.10050378, 0.10050378])"
      ]
     },
     "execution_count": 9,
     "metadata": {},
     "output_type": "execute_result"
    }
   ],
   "source": [
    "#Indicator function of the second connected component: 99 nodes.\n",
    "eigenvectors[:,1]"
   ]
  },
  {
   "cell_type": "markdown",
   "metadata": {},
   "source": [
    "### Question 6\n",
    "\n",
    "Look at the spectrum of the Laplacian by plotting the eigenvalues.\n",
    "Comment on what you observe."
   ]
  },
  {
   "cell_type": "code",
   "execution_count": 10,
   "metadata": {},
   "outputs": [
    {
     "data": {
      "text/plain": [
       "Text(0, 0.5, 'Eigenvalue')"
      ]
     },
     "execution_count": 10,
     "metadata": {},
     "output_type": "execute_result"
    },
    {
     "data": {
      "image/png": "[encoded data removed]",
      "text/plain": [
       "<Figure size 432x288 with 1 Axes>"
      ]
     },
     "metadata": {},
     "output_type": "display_data"
    }
   ],
   "source": [
    "# Your code here.\n",
    "plt.plot(eigenvalues)\n",
    "plt.xlabel('Eigenvalue index')\n",
    "plt.ylabel('Eigenvalue')"
   ]
  },
  {
   "cell_type": "markdown",
   "metadata": {},
   "source": [
    "**Your answer here.**\n",
    "\n",
    "The eigenvalues quickly increase: there are just a few low eigenvalues. This tends to show that, apart from the disconnected node, the network is well connected."
   ]
  },
  {
   "cell_type": "markdown",
   "metadata": {},
   "source": [
    "How many connected components are there in your graph? Answer using the eigenvalues only."
   ]
  },
  {
   "cell_type": "code",
   "execution_count": 11,
   "metadata": {},
   "outputs": [
    {
     "name": "stdout",
     "output_type": "stream",
     "text": [
      "Number of connected components: 2\n"
     ]
    }
   ],
   "source": [
    "# Your code here.\n",
    "tol = 10**(-5);\n",
    "nCC = np.sum(eigenvalues<tol)\n",
    "\n",
    "print(\"Number of connected components: \" + str(nCC))"
   ]
  },
  {
   "cell_type": "markdown",
   "metadata": {},
   "source": [
    "Is there an upper bound on the eigenvalues, i.e., what is the largest possible eigenvalue? Answer for both the combinatorial and normalized Laplacians."
   ]
  },
  {
   "cell_type": "markdown",
   "metadata": {},
   "source": [
    "**Your answer here.**\n",
    "\n",
    "Eigenvalues of the combinatorial laplacian are upper-bounded by $2*degree_{max}$.\n",
    "\n",
    "Eigenvalues of the normalized laplacian are upper-bounded by 2.\n",
    "\n",
    "This comes from the Gershgorin circle theorem applied to the specific structure of the Laplacian."
   ]
  },
  {
   "cell_type": "markdown",
   "metadata": {},
   "source": [
    "## 3 Laplacian eigenmaps\n",
    "\n",
    "*Laplacian eigenmaps* is a method to embed a graph $\\mathcal{G}$ in a $d$-dimensional Euclidean space.\n",
    "That is, it associates a vector $z_i \\in \\mathbb{R}^d$ to every node $v_i \\in \\mathcal{V}$.\n",
    "The graph $\\mathcal{G}$ is thus embedded as $Z \\in \\mathbb{R}^{N \\times d}$.\n",
    "\n",
    "From now on, if your graph has more than one connected component, work with the giant component only."
   ]
  },
  {
   "cell_type": "code",
   "execution_count": null,
   "metadata": {},
   "outputs": [],
   "source": [
    "# Your code here if needed."
   ]
  },
  {
   "cell_type": "markdown",
   "metadata": {},
   "source": [
    "### Question 7\n",
    "\n",
    "What do we use Laplacian eigenmaps for? (Or more generally, graph embeddings.)"
   ]
  },
  {
   "cell_type": "markdown",
   "metadata": {},
   "source": [
    "**Your answer here.**\n",
    "\n",
    "To reduce the dimension of the graph in order to visulaize the graph in a lower dimension while keeping some network properties."
   ]
  },
  {
   "cell_type": "markdown",
   "metadata": {},
   "source": [
    "### Question 8\n",
    "\n",
    "Embed your graph in $d=2$ dimensions with Laplacian eigenmaps.\n",
    "Try with and without re-normalizing the eigenvectors by the degrees, then keep the one your prefer.\n",
    "\n",
    "**Recompute** the eigenvectors you need with a partial eigendecomposition method for sparse matrices.\n",
    "When $k \\ll N$ eigenvectors are needed, partial eigendecompositions are much more efficient than complete eigendecompositions.\n",
    "A partial eigendecomposition scales as $\\Omega(k |\\mathcal{E}|$), while a complete eigendecomposition costs $\\mathcal{O}(N^3)$ operations."
   ]
  },
  {
   "cell_type": "code",
   "execution_count": 61,
   "metadata": {},
   "outputs": [],
   "source": [
    "k= 2\n",
    "eig_val, eig_vect = sparse.linalg.eigsh(laplacian_csr, k=k, which = 'SM')\n",
    "Y = eig_vect\n",
    "# norm_eig_vect = Y / degree_vect[:,None]"
   ]
  },
  {
   "cell_type": "markdown",
   "metadata": {},
   "source": [
    "Plot the nodes embedded in 2D. Comment on what you see."
   ]
  },
  {
   "cell_type": "code",
   "execution_count": 62,
   "metadata": {},
   "outputs": [
    {
     "data": {
      "image/png": "[encoded data removed]",
      "text/plain": [
       "<Figure size 432x288 with 1 Axes>"
      ]
     },
     "metadata": {},
     "output_type": "display_data"
    }
   ],
   "source": [
    "plt.scatter(Y[:,0], Y[:,1])\n",
    "plt.title(\"Scatter plot of 2-Dimensional reduction\")\n",
    "plt.xlabel(\"Dimension 1\")\n",
    "plt.ylabel(\"Dimension 2\")\n",
    "plt.show()"
   ]
  },
  {
   "cell_type": "markdown",
   "metadata": {},
   "source": [
    "**Your answer here.**\n",
    "\n",
    "There are clearly two clusters correspondind to the two connected components. Additionnally, if we chose to plot the second and the third dimensions of the eigenmap it would allow us to look at the cluster inside the biggest connected component:"
   ]
  },
  {
   "cell_type": "code",
   "execution_count": 63,
   "metadata": {},
   "outputs": [
    {
     "data": {
      "image/png": "[encoded data removed]",
      "text/plain": [
       "<Figure size 432x288 with 1 Axes>"
      ]
     },
     "metadata": {},
     "output_type": "display_data"
    }
   ],
   "source": [
    "k= 3\n",
    "eig_val, eig_vect = sparse.linalg.eigsh(laplacian_csr, k=k, which = 'SM')\n",
    "Y = eig_vect\n",
    "# norm_eig_vect = Y / degree_vect[:,None]\n",
    "\n",
    "plt.scatter(Y[:,1], Y[:,2])\n",
    "plt.title(\"Scatter plot of 3-Dimensional reduction\")\n",
    "plt.xlabel(\"Dimension 2\")\n",
    "plt.ylabel(\"Dimension 3\")\n",
    "plt.show()"
   ]
  },
  {
   "cell_type": "markdown",
   "metadata": {},
   "source": [
    "### Question 9"
   ]
  },
  {
   "cell_type": "markdown",
   "metadata": {},
   "source": [
    "What does the embedding $Z \\in \\mathbb{R}^{N \\times d}$ preserve?"
   ]
  },
  {
   "cell_type": "markdown",
   "metadata": {},
   "source": [
    "**Your answer here.**\n",
    "\n",
    "It preserves the local geometry structure of the graph, hence preserves the comunities."
   ]
  },
  {
   "cell_type": "markdown",
   "metadata": {},
   "source": [
    "## 2 Spectral clustering\n",
    "\n",
    "*Spectral clustering* is a method to partition a graph into distinct clusters.\n",
    "The method associates a feature vector $z_i \\in \\mathbb{R}^d$ to every node $v_i \\in \\mathcal{V}$, then runs [$k$-means](https://en.wikipedia.org/wiki/K-means_clustering) in the embedding space $\\mathbb{R}^d$ to assign each node $v_i \\in \\mathcal{V}$ to a cluster $c_j \\in \\mathcal{C}$, where $k = |\\mathcal{C}|$ is the number of desired clusters."
   ]
  },
  {
   "cell_type": "markdown",
   "metadata": {},
   "source": [
    "### Question 10\n",
    "\n",
    "Choose $k$ and $d$. How did you get to those numbers?"
   ]
  },
  {
   "cell_type": "markdown",
   "metadata": {},
   "source": [
    "**Your answer here.**\n",
    "\n",
    "We selected k = 3 as we want to have the separation between the republican, democrats and the isolated guy and we select d = 3 acoording to the second point in the previous question. It really seems that 3 dimensions are enough to distinguish the three clusters."
   ]
  },
  {
   "cell_type": "markdown",
   "metadata": {},
   "source": [
    "### Question 11\n",
    "\n",
    "1. Embed your graph in $\\mathbb{R}^d$ as $Z \\in \\mathbb{R}^{N \\times d}$.\n",
    "   Try with and without re-normalizing the eigenvectors by the degrees, then keep the one your prefer.\n",
    "1. If you want $k=2$ clusters, partition with the Fiedler vector. For $k > 2$ clusters, run $k$-means on $Z$. Don't implement $k$-means, use the `KMeans` class imported from scikit-learn."
   ]
  },
  {
   "cell_type": "code",
   "execution_count": 67,
   "metadata": {},
   "outputs": [
    {
     "data": {
      "text/plain": [
       "array([1, 0, 1, 0, 0, 1, 0, 1, 0, 1, 0, 1, 0, 0, 0, 1, 1, 0, 1, 1, 0, 1,\n",
       "       1, 1, 1, 0, 0, 0, 1, 1, 0, 1, 1, 1, 0, 1, 1, 0, 0, 1, 0, 0, 1, 0,\n",
       "       1, 1, 1, 1, 1, 0, 0, 1, 0, 0, 2, 1, 0, 1, 0, 0, 0, 1, 0, 0, 1, 1,\n",
       "       0, 0, 0, 1, 1, 0, 1, 0, 1, 1, 1, 1, 0, 1, 0, 0, 1, 0, 1, 0, 0, 1,\n",
       "       0, 1, 1, 1, 0, 0, 0, 0, 0, 1, 0, 1], dtype=int32)"
      ]
     },
     "execution_count": 67,
     "metadata": {},
     "output_type": "execute_result"
    }
   ],
   "source": [
    "d = 3\n",
    "k = 3\n",
    "eig_val, eig_vect = sparse.linalg.eigsh(laplacian_csr, k=d, which = 'SM')\n",
    "Y = eig_vect\n",
    "\n",
    "kmean = KMeans(n_clusters = k).fit(eig_vect)\n",
    "clusters = kmean.labels_\n",
    "clusters"
   ]
  },
  {
   "cell_type": "markdown",
   "metadata": {},
   "source": [
    "### Question 12\n",
    "\n",
    "Use the computed cluster assignment to reorder the adjacency matrix $A$.\n",
    "What do you expect? What do you observe?"
   ]
  },
  {
   "cell_type": "code",
   "execution_count": 71,
   "metadata": {},
   "outputs": [],
   "source": [
    "filter0 = (clusters == 0)\n",
    "filter1 = (clusters == 1)\n",
    "filter2 = (clusters == 2)"
   ]
  },
  {
   "cell_type": "code",
   "execution_count": 72,
   "metadata": {},
   "outputs": [
    {
     "data": {
      "image/png": "[encoded data removed]",
      "text/plain": [
       "<Figure size 432x288 with 1 Axes>"
      ]
     },
     "metadata": {},
     "output_type": "display_data"
    }
   ],
   "source": [
    "new_order = np.argsort(clusters)\n",
    "A1 = adjacency[:, new_order][new_order]\n",
    "plt.spy(A1)\n",
    "plt.show()"
   ]
  },
  {
   "cell_type": "markdown",
   "metadata": {},
   "source": [
    "**Your answer here.**"
   ]
  },
  {
   "cell_type": "markdown",
   "metadata": {},
   "source": [
    "### Question 13\n",
    "\n",
    "If you have ground truth clusters for your dataset, compare the cluster assignment from spectral clustering to the ground truth.\n",
    "A simple quantitative measure is to compute the percentage of nodes that have been correctly categorized.\n",
    "If you don't have a ground truth, qualitatively assess the quality of the clustering.\n",
    "\n",
    "Ground truth clusters are the \"real clusters\".\n",
    "For example, the genre of musical tracks in FMA, the category of Wikipedia articles, the spammer status of individuals, etc.\n",
    "Look for the `labels` in the [dataset descriptions](https://github.com/mdeff/ntds_2018/tree/master/projects/README.md)."
   ]
  },
  {
   "cell_type": "code",
   "execution_count": null,
   "metadata": {},
   "outputs": [],
   "source": [
    "# Your code here."
   ]
  },
  {
   "cell_type": "markdown",
   "metadata": {},
   "source": [
    "### Question 14\n",
    "\n",
    "Plot the cluster assignment (one color per cluster) on the 2D embedding you computed above with Laplacian eigenmaps."
   ]
  },
  {
   "cell_type": "code",
   "execution_count": null,
   "metadata": {},
   "outputs": [],
   "source": [
    "# Your code here."
   ]
  },
  {
   "cell_type": "markdown",
   "metadata": {},
   "source": [
    "### Question 15\n",
    "\n",
    "Why did we use the eigenvectors of the graph Laplacian as features? Could we use other features for clustering?"
   ]
  },
  {
   "cell_type": "markdown",
   "metadata": {},
   "source": [
    "**Your answer here.**"
   ]
  }
 ],
 "metadata": {
  "kernelspec": {
   "display_name": "Python 3",
   "language": "python",
   "name": "python3"
  },
  "language_info": {
   "codemirror_mode": {
    "name": "ipython",
    "version": 3
   },
   "file_extension": ".py",
   "mimetype": "text/x-python",
   "name": "python",
   "nbconvert_exporter": "python",
   "pygments_lexer": "ipython3",
   "version": "3.7.0"
  }
 },
 "nbformat": 4,
 "nbformat_minor": 2
}
