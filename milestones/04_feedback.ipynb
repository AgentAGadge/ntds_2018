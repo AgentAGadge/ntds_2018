{
  "cells": [
    {
      "cell_type": "markdown",
      "source": [
        "# [NTDS'18] milestone 4: feedback\n",
        "[ntds'18]: https://github.com/mdeff/ntds_2018\n",
        "\n",
        "[Rodrigo Pena](https://people.epfl.ch/254838?lang=en)\n",
        "\nEPFL [LTS2](https://lts2.epfl.ch) & [LTS4](https://lts4.epfl.ch)"
      ],
      "metadata": {}
    },
    {
      "cell_type": "markdown",
      "source": [
        "The following grading scheme was adopted for the correction of Milestone 4. The total is over X points.\n"
      ],
      "metadata": {}
    },
    {
      "cell_type": "markdown",
      "source": [],
      "metadata": {}
    }
  ],
  "metadata": {
    "kernelspec": {
      "name": "python3",
      "language": "python",
      "display_name": "Python 3"
    },
    "kernel_info": {
      "name": "python3"
    },
    "language_info": {
      "name": "python",
      "version": "3.6.1",
      "mimetype": "text/x-python",
      "codemirror_mode": {
        "name": "ipython",
        "version": 3
      },
      "pygments_lexer": "ipython3",
      "nbconvert_exporter": "python",
      "file_extension": ".py"
    },
    "nteract": {
      "version": "0.11.6"
    }
  },
  "nbformat": 4,
  "nbformat_minor": 2
}