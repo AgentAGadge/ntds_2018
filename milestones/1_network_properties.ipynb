{
 "cells": [
  {
   "cell_type": "markdown",
   "metadata": {},
   "source": [
    "# NTDS'18 milestone 1: network collection and properties\n",
    "[Effrosyni Simou](https://lts4.epfl.ch/simou), [EPFL LTS4](https://lts4.epfl.ch)"
   ]
  },
  {
   "cell_type": "markdown",
   "metadata": {},
   "source": [
    "## Students\n",
    "\n",
    "* Team: `<your team number>`\n",
    "* Students: `<the name of all students in the team>`\n",
    "* Dataset: `<the dataset you used to complete the milestone>`"
   ]
  },
  {
   "cell_type": "markdown",
   "metadata": {},
   "source": [
    "## Rules\n",
    "\n",
    "* Milestones have to be completed by teams. No collaboration between teams is allowed.\n",
    "* Textual answers shall be short. Typically one to three sentences.\n",
    "* Code has to be clean.\n",
    "* You cannot import any other library than we imported.\n",
    "* When submitting, the notebook is executed and the results are stored. I.e., if you open the notebook again it should show numerical results and plots. We won't be able to execute your notebooks.\n",
    "* The notebook is re-executed from a blank state before submission. That is to be sure it is reproducible. You can click \"Kernel\" then \"Restart & Run All\" in Jupyter."
   ]
  },
  {
   "cell_type": "markdown",
   "metadata": {},
   "source": [
    "## Objective "
   ]
  },
  {
   "cell_type": "markdown",
   "metadata": {},
   "source": [
    "The purpose of this milestone is to start getting acquainted to the network that you will use for this class. In the first part of the milestone you will import your data using [Pandas](http://pandas.pydata.org) and you will create the adjacency matrix using [Numpy](http://www.numpy.org). This part is project specific. In the second part you will have to compute some basic properties of your network. **For the computation of the properties you are only allowed to use the packages that have been imported in the cell below.** You are not allowed to use any graph-specific toolboxes for this milestone (such as networkx and PyGSP). Furthermore, the aim is not to blindly compute the network properties, but to also start to think about what kind of network you will be working with this semester. "
   ]
  },
  {
   "cell_type": "code",
   "execution_count": 2,
   "metadata": {},
   "outputs": [],
   "source": [
    "import numpy as np\n",
    "import pandas as pd\n",
    "import matplotlib.pyplot as plt\n",
    "\n",
    "#Import json to retrieve the data\n",
    "import json\n",
    "#Import requests to send CURL requests to the API. This needs to be installed beforehand\n",
    "import requests"
   ]
  },
  {
   "cell_type": "markdown",
   "metadata": {},
   "source": [
    "## Part 1 - Import your data and manipulate them. "
   ]
  },
  {
   "cell_type": "markdown",
   "metadata": {},
   "source": [
    "###  A. Load your data in a Panda dataframe."
   ]
  },
  {
   "cell_type": "markdown",
   "metadata": {},
   "source": [
    "First, you should define and understand what are your nodes, what features you have and what are your labels. Please provide below a Panda dataframe where each row corresponds to a node with its features and labels. For example, in the the case of the Free Music Archive (FMA) Project, each row of the dataframe would be of the following form:\n",
    "\n",
    "\n",
    "| Track   |  Feature 1  | Feature 2 | . . . | Feature 518|  Label 1 |  Label 2 |. . .|Label 16|\n",
    "|:-------:|:-----------:|:---------:|:-----:|:----------:|:--------:|:--------:|:---:|:------:|\n",
    "|         |             |           |       |            |          |          |     |        |\n",
    "\n",
    "It is possible that in some of the projects either the features or the labels are not available. This is OK, in that case just make sure that you create a dataframe where each of the rows corresponds to a node and its associated features or labels."
   ]
  },
  {
   "cell_type": "code",
   "execution_count": 27,
   "metadata": {},
   "outputs": [],
   "source": [
    "#Define a reference function to retrieve data from the API. It returns the \"results\" object of the retrieved json file.\n",
    "#You need an API key stored in the APIKey.txt file\n",
    "def getFromAPI(url):\n",
    "    with open (\"APIKey.txt\", \"r\") as keyFile:\n",
    "        apiKey=keyFile.readline()\n",
    "        if apiKey[-1] == '\\n':\n",
    "            apiKey = apiKey[:-1]\n",
    "            \n",
    "    headers = {'X-API-Key': apiKey}\n",
    "    \n",
    "    r = requests.get(url, headers = headers)\n",
    "    r = r.json() #Parse the result to a json file\n",
    "    #print(r['status'])#Should display \"Ok\"\n",
    "    \n",
    "    results = r['results'] #Retrieve the interesting part\n",
    "    results = results[0]\n",
    "    \n",
    "    return results\n",
    "\n",
    "#This function filters out the senators not in office anymore\n",
    "def filterActiveSenators(senatorsList):\n",
    "    senatorActiveList = []\n",
    "    for senator in senatorsList:\n",
    "        if senator[\"in_office\"]:\n",
    "            senatorActiveList.append(senator)\n",
    "    nbActiveSenators = len(senatorActiveList)\n",
    "    print(\"There are \" + str(nbActiveSenators) + \" active senators among the \" + str(len(senatorsList)) + \" senators\")\n",
    "    return senatorActiveList\n",
    "\n",
    "\n",
    "#This function creates a dictionnary representing a senator with the relevant labels\n",
    "def createSenatorLabels(senator):\n",
    "    senatorDict = {'id': senator['id']} \n",
    "    return senatorDict"
   ]
  },
  {
   "cell_type": "code",
   "execution_count": 28,
   "metadata": {},
   "outputs": [],
   "source": [
    "# Parameters\n",
    "\n",
    "requestsPerSenators = 2; #The number of considered votes will be 20*requestsPerSenators"
   ]
  },
  {
   "cell_type": "code",
   "execution_count": 29,
   "metadata": {},
   "outputs": [
    {
     "name": "stdout",
     "output_type": "stream",
     "text": [
      "There are 100 active senators among the 105 senators\n",
      "        S2C188      S2C189      S2C190      S2C191      S2C192      S2C193  \\\n",
      "0          Yes         Yes         Yes         Yes         Yes         Yes   \n",
      "1          Yes         Yes         Yes          No         Yes         Yes   \n",
      "2          Yes         Yes         Yes         Yes          No         Yes   \n",
      "3          Yes         Yes         Yes          No         Yes         Yes   \n",
      "4          Yes         Yes         Yes          No         Yes         Yes   \n",
      "5          Yes         Yes         Yes         Yes         Yes         Yes   \n",
      "6          Yes         Yes         Yes          No         Yes         Yes   \n",
      "7          Yes         Yes         Yes         Yes          No         Yes   \n",
      "8          Yes         Yes         Yes          No         Yes         Yes   \n",
      "9          Yes         Yes         Yes         Yes         Yes         Yes   \n",
      "10         Yes         Yes         Yes          No         Yes         Yes   \n",
      "11         Yes         Yes         Yes         Yes         Yes         Yes   \n",
      "12         Yes         Yes         Yes          No         Yes         Yes   \n",
      "13         Yes         Yes         Yes          No         Yes         Yes   \n",
      "14         Yes         Yes         Yes          No         Yes         Yes   \n",
      "15         Yes         Yes         Yes         Yes          No         Yes   \n",
      "16         Yes         Yes         Yes          No         Yes         Yes   \n",
      "17         Yes         Yes         Yes          No         Yes         Yes   \n",
      "18         Yes         Yes         Yes  Not Voting  Not Voting  Not Voting   \n",
      "19         Yes         Yes         Yes         Yes  Not Voting  Not Voting   \n",
      "20         Yes         Yes         Yes          No         Yes         Yes   \n",
      "21         Yes         Yes         Yes         Yes          No         Yes   \n",
      "22         Yes         Yes         Yes         Yes          No          No   \n",
      "23         Yes         Yes         Yes  Not Voting  Not Voting  Not Voting   \n",
      "24         Yes         Yes         Yes         Yes         Yes         Yes   \n",
      "25         Yes         Yes         Yes          No         Yes         Yes   \n",
      "26         Yes         Yes         Yes          No         Yes         Yes   \n",
      "27         Yes         Yes         Yes          No         Yes         Yes   \n",
      "28         Yes         Yes         Yes         Yes          No         Yes   \n",
      "29         Yes         Yes         Yes         Yes          No         Yes   \n",
      "..         ...         ...         ...         ...         ...         ...   \n",
      "70         Yes         Yes         Yes         Yes          No         Yes   \n",
      "71         Yes         Yes         Yes          No         Yes         Yes   \n",
      "72         Yes         Yes         Yes         Yes         Yes         Yes   \n",
      "73         Yes         Yes         Yes          No         Yes         Yes   \n",
      "74         Yes         Yes         Yes         Yes          No          No   \n",
      "75         Yes         Yes         Yes         Yes         Yes         Yes   \n",
      "76         Yes         Yes         Yes         Yes          No         Yes   \n",
      "77         Yes         Yes         Yes         Yes         Yes         Yes   \n",
      "78         Yes         Yes          No          No         Yes          No   \n",
      "79         Yes         Yes         Yes         Yes          No         Yes   \n",
      "80  Not Voting  Not Voting  Not Voting  Not Voting  Not Voting  Not Voting   \n",
      "81         Yes         Yes         Yes          No         Yes         Yes   \n",
      "82         Yes         Yes         Yes         Yes          No         Yes   \n",
      "83         Yes         Yes         Yes          No         Yes         Yes   \n",
      "84         Yes         Yes         Yes         Yes         Yes         Yes   \n",
      "85         Yes         Yes         Yes          No         Yes         Yes   \n",
      "86         Yes         Yes         Yes          No         Yes         Yes   \n",
      "87         Yes         Yes         Yes         Yes         Yes         Yes   \n",
      "88         Yes         Yes         Yes          No         Yes         Yes   \n",
      "89         Yes         Yes         Yes         Yes          No         Yes   \n",
      "90         Yes         Yes         Yes         Yes         Yes         Yes   \n",
      "91  Not Voting  Not Voting          No         Yes          No          No   \n",
      "92  Not Voting  Not Voting         Yes          No         Yes         Yes   \n",
      "93         Yes         Yes         Yes          No         Yes         Yes   \n",
      "94         Yes         Yes         Yes          No         Yes         Yes   \n",
      "95         Yes         Yes         Yes          No         Yes         Yes   \n",
      "96         Yes         Yes         Yes          No         Yes         Yes   \n",
      "97         Yes         Yes         Yes         Yes         Yes         Yes   \n",
      "98         Yes         Yes         Yes          No         Yes         Yes   \n",
      "99         Yes         Yes         Yes         Yes         Yes         Yes   \n",
      "\n",
      "        S2C194      S2C195      S2C196      S2C197   ...    S2C243 S2C244  \\\n",
      "0          Yes         Yes         Yes         Yes   ...       NaN    NaN   \n",
      "1          Yes         Yes          No          No   ...       NaN    NaN   \n",
      "2          Yes         Yes         Yes         Yes   ...       NaN    NaN   \n",
      "3          Yes         Yes         Yes         Yes   ...       NaN    NaN   \n",
      "4           No          No         Yes         Yes   ...       NaN    NaN   \n",
      "5          Yes         Yes         Yes         Yes   ...       NaN    NaN   \n",
      "6           No          No          No          No   ...       NaN    NaN   \n",
      "7          Yes         Yes         Yes         Yes   ...       NaN    NaN   \n",
      "8           No          No          No          No   ...       NaN    NaN   \n",
      "9          Yes         Yes         Yes         Yes   ...       NaN    NaN   \n",
      "10         Yes         Yes          No          No   ...       NaN    NaN   \n",
      "11         Yes         Yes         Yes         Yes   ...       NaN    NaN   \n",
      "12          No          No         Yes         Yes   ...       NaN    NaN   \n",
      "13  Not Voting          No         Yes         Yes   ...       NaN    NaN   \n",
      "14         Yes         Yes         Yes         Yes   ...       NaN    NaN   \n",
      "15  Not Voting         Yes         Yes         Yes   ...       NaN    NaN   \n",
      "16         Yes         Yes         Yes         Yes   ...       NaN    NaN   \n",
      "17          No          No         Yes         Yes   ...       NaN    NaN   \n",
      "18         Yes         Yes         Yes         Yes   ...       NaN    NaN   \n",
      "19         Yes         Yes         Yes         Yes   ...       NaN    NaN   \n",
      "20          No          No          No          No   ...       NaN    NaN   \n",
      "21         Yes         Yes         Yes         Yes   ...       NaN    NaN   \n",
      "22  Not Voting         Yes         Yes         Yes   ...       NaN    NaN   \n",
      "23  Not Voting  Not Voting  Not Voting  Not Voting   ...       NaN    NaN   \n",
      "24         Yes         Yes         Yes         Yes   ...       NaN    NaN   \n",
      "25         Yes         Yes         Yes         Yes   ...       NaN    NaN   \n",
      "26          No          No          No          No   ...       NaN    NaN   \n",
      "27          No          No          No          No   ...       NaN    NaN   \n",
      "28         Yes         Yes         Yes         Yes   ...       NaN    NaN   \n",
      "29         Yes         Yes         Yes         Yes   ...       NaN    NaN   \n",
      "..         ...         ...         ...         ...   ...       ...    ...   \n",
      "70         Yes         Yes         Yes         Yes   ...       NaN    NaN   \n",
      "71          No          No         Yes         Yes   ...       NaN    NaN   \n",
      "72         Yes         Yes         Yes         Yes   ...       NaN    NaN   \n",
      "73          No          No         Yes         Yes   ...       NaN    NaN   \n",
      "74         Yes         Yes         Yes         Yes   ...       NaN    NaN   \n",
      "75         Yes         Yes         Yes         Yes   ...       NaN    NaN   \n",
      "76         Yes         Yes         Yes         Yes   ...       NaN    NaN   \n",
      "77         Yes         Yes         Yes         Yes   ...       NaN    NaN   \n",
      "78          No          No          No          No   ...       NaN    NaN   \n",
      "79         Yes         Yes         Yes         Yes   ...       NaN    NaN   \n",
      "80          No          No          No          No   ...       NaN    NaN   \n",
      "81          No         Yes          No          No   ...       NaN    NaN   \n",
      "82         Yes         Yes         Yes         Yes   ...       NaN    NaN   \n",
      "83         Yes         Yes         Yes         Yes   ...       NaN    NaN   \n",
      "84         Yes         Yes         Yes         Yes   ...       NaN    NaN   \n",
      "85          No          No         Yes         Yes   ...       NaN    NaN   \n",
      "86          No          No          No          No   ...       NaN    NaN   \n",
      "87         Yes         Yes         Yes         Yes   ...       NaN    NaN   \n",
      "88         Yes         Yes         Yes         Yes   ...       NaN    NaN   \n",
      "89         Yes         Yes         Yes         Yes   ...       NaN    NaN   \n",
      "90         Yes         Yes         Yes         Yes   ...       NaN    NaN   \n",
      "91         Yes         Yes         Yes         Yes   ...       NaN    NaN   \n",
      "92          No          No          No          No   ...       NaN    NaN   \n",
      "93          No          No         Yes         Yes   ...       NaN    NaN   \n",
      "94          No          No         Yes         Yes   ...       NaN    NaN   \n",
      "95          No          No          No          No   ...       NaN    NaN   \n",
      "96          No          No          No          No   ...       NaN    NaN   \n",
      "97         Yes         Yes         Yes         Yes   ...       NaN    NaN   \n",
      "98         Yes         Yes          No          No   ...       NaN    NaN   \n",
      "99         Yes         Yes         Yes         Yes   ...       NaN    NaN   \n",
      "\n",
      "   S2C245 S2C246 S2C247 S2C248 S2C249 S2C250 S2C251       id  \n",
      "0     NaN    NaN    NaN    NaN    NaN    NaN    NaN  A000360  \n",
      "1     NaN    NaN    NaN    NaN    NaN    NaN    NaN  B001230  \n",
      "2     NaN    NaN    NaN    NaN    NaN    NaN    NaN  B001261  \n",
      "3     NaN    NaN    NaN    NaN    NaN    NaN    NaN  B001267  \n",
      "4     NaN    NaN    NaN    NaN    NaN    NaN    NaN  B001277  \n",
      "5     NaN    NaN    NaN    NaN    NaN    NaN    NaN  B000575  \n",
      "6     NaN    NaN    NaN    NaN    NaN    NaN    NaN  B001288  \n",
      "7     NaN    NaN    NaN    NaN    NaN    NaN    NaN  B001236  \n",
      "8     NaN    NaN    NaN    NaN    NaN    NaN    NaN  B000944  \n",
      "9     NaN    NaN    NaN    NaN    NaN    NaN    NaN  B001135  \n",
      "10    NaN    NaN    NaN    NaN    NaN    NaN    NaN  C000127  \n",
      "11    NaN    NaN    NaN    NaN    NaN    NaN    NaN  C001047  \n",
      "12    NaN    NaN    NaN    NaN    NaN    NaN    NaN  C000141  \n",
      "13    NaN    NaN    NaN    NaN    NaN    NaN    NaN  C000174  \n",
      "14    NaN    NaN    NaN    NaN    NaN    NaN    NaN  C001070  \n",
      "15    NaN    NaN    NaN    NaN    NaN    NaN    NaN  C001075  \n",
      "16    NaN    NaN    NaN    NaN    NaN    NaN    NaN  C001035  \n",
      "17    NaN    NaN    NaN    NaN    NaN    NaN    NaN  C001088  \n",
      "18    NaN    NaN    NaN    NaN    NaN    NaN    NaN  C001071  \n",
      "19    NaN    NaN    NaN    NaN    NaN    NaN    NaN  C001056  \n",
      "20    NaN    NaN    NaN    NaN    NaN    NaN    NaN  C001113  \n",
      "21    NaN    NaN    NaN    NaN    NaN    NaN    NaN  C001095  \n",
      "22    NaN    NaN    NaN    NaN    NaN    NaN    NaN  C000880  \n",
      "23    NaN    NaN    NaN    NaN    NaN    NaN    NaN  C001098  \n",
      "24    NaN    NaN    NaN    NaN    NaN    NaN    NaN  D000618  \n",
      "25    NaN    NaN    NaN    NaN    NaN    NaN    NaN  D000607  \n",
      "26    NaN    NaN    NaN    NaN    NaN    NaN    NaN  D000622  \n",
      "27    NaN    NaN    NaN    NaN    NaN    NaN    NaN  D000563  \n",
      "28    NaN    NaN    NaN    NaN    NaN    NaN    NaN  E000285  \n",
      "29    NaN    NaN    NaN    NaN    NaN    NaN    NaN  E000295  \n",
      "..    ...    ...    ...    ...    ...    ...    ...      ...  \n",
      "70    NaN    NaN    NaN    NaN    NaN    NaN    NaN  P000612  \n",
      "71    NaN    NaN    NaN    NaN    NaN    NaN    NaN  P000595  \n",
      "72    NaN    NaN    NaN    NaN    NaN    NaN    NaN  P000449  \n",
      "73    NaN    NaN    NaN    NaN    NaN    NaN    NaN  R000122  \n",
      "74    NaN    NaN    NaN    NaN    NaN    NaN    NaN  R000584  \n",
      "75    NaN    NaN    NaN    NaN    NaN    NaN    NaN  R000307  \n",
      "76    NaN    NaN    NaN    NaN    NaN    NaN    NaN  R000605  \n",
      "77    NaN    NaN    NaN    NaN    NaN    NaN    NaN  R000595  \n",
      "78    NaN    NaN    NaN    NaN    NaN    NaN    NaN  S000033  \n",
      "79    NaN    NaN    NaN    NaN    NaN    NaN    NaN  S001197  \n",
      "80    NaN    NaN    NaN    NaN    NaN    NaN    NaN  S001194  \n",
      "81    NaN    NaN    NaN    NaN    NaN    NaN    NaN  S000148  \n",
      "82    NaN    NaN    NaN    NaN    NaN    NaN    NaN  S001184  \n",
      "83    NaN    NaN    NaN    NaN    NaN    NaN    NaN  S001181  \n",
      "84    NaN    NaN    NaN    NaN    NaN    NaN    NaN  S000320  \n",
      "85    NaN    NaN    NaN    NaN    NaN    NaN    NaN  S001203  \n",
      "86    NaN    NaN    NaN    NaN    NaN    NaN    NaN  S000770  \n",
      "87    NaN    NaN    NaN    NaN    NaN    NaN    NaN  S001198  \n",
      "88    NaN    NaN    NaN    NaN    NaN    NaN    NaN  T000464  \n",
      "89    NaN    NaN    NaN    NaN    NaN    NaN    NaN  T000250  \n",
      "90    NaN    NaN    NaN    NaN    NaN    NaN    NaN  T000476  \n",
      "91    NaN    NaN    NaN    NaN    NaN    NaN    NaN  T000461  \n",
      "92    NaN    NaN    NaN    NaN    NaN    NaN    NaN  U000039  \n",
      "93    NaN    NaN    NaN    NaN    NaN    NaN    NaN  V000128  \n",
      "94    NaN    NaN    NaN    NaN    NaN    NaN    NaN  W000805  \n",
      "95    NaN    NaN    NaN    NaN    NaN    NaN    NaN  W000817  \n",
      "96    NaN    NaN    NaN    NaN    NaN    NaN    NaN  W000802  \n",
      "97    NaN    NaN    NaN    NaN    NaN    NaN    NaN  W000437  \n",
      "98    NaN    NaN    NaN    NaN    NaN    NaN    NaN  W000779  \n",
      "99    NaN    NaN    NaN    NaN    NaN    NaN    NaN  Y000064  \n",
      "\n",
      "[100 rows x 56 columns]\n"
     ]
    }
   ],
   "source": [
    "# Retrieve the list of all senators, filter it and save it\n",
    "r = getFromAPI(\"https://api.propublica.org/congress/v1/115/senate/members.json\")\n",
    "senatorsList = r[\"members\"]\n",
    "senatorActiveList = filterActiveSenators(senatorsList)\n",
    "np.save('senatorActiveList',senatorActiveList)\n",
    "\n",
    "# Build the DataFrame\n",
    "jsonDataFrame = [] #Dataframe built in a list of dictionnaries\n",
    "\n",
    "for senator in senatorActiveList: # For each senator, retrieve his/her votes (features ) and his/her labels\n",
    "    #For each senator, keep track of his votes in a dictionary and complete the dictionnary with the relevant labels\n",
    "    senatorDict = createSenatorLabels(senator)\n",
    "    for offset in range(0,requestsPerSenators*20,20): #Retrieve the votes 20 by 20\n",
    "        r = getFromAPI(\"https://api.propublica.org/congress/v1/members/\"+senator['id']+\"/votes.json?offset=\"+str(offset))\n",
    "        votes = r['votes'] #List of votes in this range\n",
    "        for vote in votes: #For each vote in the range, append it to the dictionnary of the senator\n",
    "            senatorDict[\"S\"+vote['session']+\"C\"+vote['roll_call']]=vote['position']\n",
    "    jsonDataFrame.append(senatorDict)\n",
    "    \n",
    "votesBySenators = pd.io.json.json_normalize(jsonDataFrame)\n",
    "print(votesBySenators)\n"
   ]
  },
  {
   "cell_type": "markdown",
   "metadata": {},
   "source": [
    "### B. Create the adjacency matrix of your network."
   ]
  },
  {
   "cell_type": "markdown",
   "metadata": {},
   "source": [
    "Remember that there are edges connecting the attributed nodes that you organized in the dataframe above. The connectivity of the network is captured by the adjacency matrix $W$. If $N$ is the number of nodes, the adjacency matrix is an $N \\times N$ matrix where the value of $W(i,j)$ is the weight of the edge connecting node $i$ to node $j$.  \n",
    "\n",
    "There are two possible scenarios for your adjacency matrix construction, as you already learned in the tutorial by Benjamin:\n",
    "\n",
    "1) The edges are given to you explicitly. In this case you should simply load the file containing the edge information and parse it in order to create your adjacency matrix. See how to do that in [this tutorial](../tutorials/02a_graph_from_edge_list.ipynb).\n",
    "\n",
    "2) The edges are not given to you. In that case you will have to create a feature graph. In order to do that you will have to chose a distance that will quantify how similar two nodes are based on the values in their corresponding feature vectors. [This tutorial](../tutorials/02b_graph_from_features.ipynb) shows you how to build feature graphs when using Euclidean distances between feature vectors. Be curious and explore other distances as well! For instance, in the case of high-dimensional feature vectors, you might want to consider using the cosine distance. Once you compute the distances between your nodes you will have a fully connected network. Do not forget to sparsify by keeping the most important edges in your network.\n",
    "\n",
    "Follow the appropriate steps for the construction of the adjacency matrix of your network and provide it in the Numpy array ``adjacency`` below: "
   ]
  },
  {
   "cell_type": "code",
   "execution_count": null,
   "metadata": {},
   "outputs": [],
   "source": [
    "# Your code here\n",
    "\n",
    "adjacency = # the adjacency matrix\n",
    "n_nodes = # the number of nodes in the network"
   ]
  },
  {
   "cell_type": "markdown",
   "metadata": {},
   "source": [
    "## Part 2"
   ]
  },
  {
   "cell_type": "markdown",
   "metadata": {},
   "source": [
    "Execute the cell below to plot the (weighted) adjacency matrix of your network."
   ]
  },
  {
   "cell_type": "code",
   "execution_count": null,
   "metadata": {},
   "outputs": [],
   "source": [
    "plt.spy(adjacency, markersize=1)\n",
    "plt.title('adjacency matrix')"
   ]
  },
  {
   "cell_type": "markdown",
   "metadata": {},
   "source": [
    "### Question 1\n",
    "\n",
    "What is the maximum number of links $L_{max}$ in a network with $N$ nodes (where $N$ is the number of nodes in your network)? How many links $L$ are there in your collected network? Comment on the sparsity of your network."
   ]
  },
  {
   "cell_type": "code",
   "execution_count": null,
   "metadata": {},
   "outputs": [],
   "source": [
    "# Your code here."
   ]
  },
  {
   "cell_type": "markdown",
   "metadata": {},
   "source": [
    "**Your answer here.**"
   ]
  },
  {
   "cell_type": "markdown",
   "metadata": {},
   "source": [
    "### Question 2\n",
    "\n",
    "Is your graph directed or undirected? If it is directed, convert it to an undirected graph by symmetrizing the adjacency matrix."
   ]
  },
  {
   "cell_type": "markdown",
   "metadata": {},
   "source": [
    "**Your answer here.**"
   ]
  },
  {
   "cell_type": "code",
   "execution_count": null,
   "metadata": {},
   "outputs": [],
   "source": [
    "# Your code here."
   ]
  },
  {
   "cell_type": "markdown",
   "metadata": {},
   "source": [
    "### Question 3\n",
    "\n",
    "In the cell below save the features dataframe and the **symmetrized** adjacency matrix. You can use the Pandas ``to_csv`` to save the ``features`` and Numpy's ``save`` to save the ``adjacency``. We will reuse those in the following milestones."
   ]
  },
  {
   "cell_type": "code",
   "execution_count": null,
   "metadata": {},
   "outputs": [],
   "source": [
    "# Your code here."
   ]
  },
  {
   "cell_type": "markdown",
   "metadata": {},
   "source": [
    "### Question 4\n",
    "\n",
    "Are the edges of your graph weighted?"
   ]
  },
  {
   "cell_type": "markdown",
   "metadata": {},
   "source": [
    "**Your answer here.**"
   ]
  },
  {
   "cell_type": "markdown",
   "metadata": {},
   "source": [
    "### Question 5\n",
    "\n",
    "What is the degree distibution of your network? "
   ]
  },
  {
   "cell_type": "code",
   "execution_count": null,
   "metadata": {},
   "outputs": [],
   "source": [
    "degree =  # Your code here. It should be a numpy array.\n",
    "\n",
    "assert len(degree) == n_nodes"
   ]
  },
  {
   "cell_type": "markdown",
   "metadata": {},
   "source": [
    "Execute the cell below to see the histogram of the degree distribution."
   ]
  },
  {
   "cell_type": "code",
   "execution_count": null,
   "metadata": {},
   "outputs": [],
   "source": [
    "weights = np.ones_like(degree) / float(n_nodes)\n",
    "plt.hist(degree, weights=weights);"
   ]
  },
  {
   "cell_type": "markdown",
   "metadata": {},
   "source": [
    "What is the average degree?"
   ]
  },
  {
   "cell_type": "code",
   "execution_count": null,
   "metadata": {},
   "outputs": [],
   "source": [
    "# Your code here."
   ]
  },
  {
   "cell_type": "markdown",
   "metadata": {},
   "source": [
    "### Question 6\n",
    "\n",
    "Comment on the degree distribution of your network."
   ]
  },
  {
   "cell_type": "markdown",
   "metadata": {},
   "source": [
    "**Your answer here.**"
   ]
  },
  {
   "cell_type": "markdown",
   "metadata": {},
   "source": [
    "### Question 7\n",
    "\n",
    "Write a function that takes as input the adjacency matrix of a graph and determines whether the graph is connected or not."
   ]
  },
  {
   "cell_type": "code",
   "execution_count": null,
   "metadata": {},
   "outputs": [],
   "source": [
    "def connected_graph(adjacency):\n",
    "    \"\"\"Determines whether a graph is connected.\n",
    "    \n",
    "    Parameters\n",
    "    ----------\n",
    "    adjacency: numpy array\n",
    "        The (weighted) adjacency matrix of a graph.\n",
    "    \n",
    "    Returns\n",
    "    -------\n",
    "    bool\n",
    "        True if the graph is connected, False otherwise.\n",
    "    \"\"\"\n",
    "    \n",
    "    # Your code here.\n",
    "    \n",
    "    return connected"
   ]
  },
  {
   "cell_type": "markdown",
   "metadata": {},
   "source": [
    "Is your graph connected? Run the ``connected_graph`` function to determine your answer."
   ]
  },
  {
   "cell_type": "code",
   "execution_count": null,
   "metadata": {},
   "outputs": [],
   "source": [
    "# Your code here."
   ]
  },
  {
   "cell_type": "markdown",
   "metadata": {},
   "source": [
    "### Question 8\n",
    "\n",
    "Write a function that extracts the connected components of a graph."
   ]
  },
  {
   "cell_type": "code",
   "execution_count": null,
   "metadata": {},
   "outputs": [],
   "source": [
    "def find_components(adjacency):\n",
    "    \"\"\"Find the connected components of a graph.\n",
    "    \n",
    "    Parameters\n",
    "    ----------\n",
    "    adjacency: numpy array\n",
    "        The (weighted) adjacency matrix of a graph.\n",
    "    \n",
    "    Returns\n",
    "    -------\n",
    "    list of numpy arrays\n",
    "        A list of adjacency matrices, one per connected component.\n",
    "    \"\"\"\n",
    "    \n",
    "    # Your code here.\n",
    "    \n",
    "    return components"
   ]
  },
  {
   "cell_type": "markdown",
   "metadata": {},
   "source": [
    "How many connected components is your network composed of? What is the size of the largest connected component? Run the ``find_components`` function to determine your answer. "
   ]
  },
  {
   "cell_type": "code",
   "execution_count": null,
   "metadata": {},
   "outputs": [],
   "source": [
    "# Your code here."
   ]
  },
  {
   "cell_type": "markdown",
   "metadata": {},
   "source": [
    "### Question 9\n",
    "\n",
    "Write a function that takes as input the adjacency matrix and a node (`source`) and returns the length of the shortest path between that node and all nodes in the graph using Dijkstra's algorithm. **For the purposes of this assignment we are interested in the hop distance between nodes, not in the sum of weights. **\n",
    "\n",
    "Hint: You might want to mask the adjacency matrix in the function ``compute_shortest_path_lengths`` in order to make sure you obtain a binary adjacency matrix. "
   ]
  },
  {
   "cell_type": "code",
   "execution_count": null,
   "metadata": {},
   "outputs": [],
   "source": [
    "def compute_shortest_path_lengths(adjacency, source):\n",
    "    \"\"\"Compute the shortest path length between a source node and all nodes.\n",
    "    \n",
    "    Parameters\n",
    "    ----------\n",
    "    adjacency: numpy array\n",
    "        The (weighted) adjacency matrix of a graph.\n",
    "    source: int\n",
    "        The source node. A number between 0 and n_nodes-1.\n",
    "    \n",
    "    Returns\n",
    "    -------\n",
    "    list of ints\n",
    "        The length of the shortest path from source to all nodes. Returned list should be of length n_nodes.\n",
    "    \"\"\"\n",
    "    \n",
    "    # Your code here.\n",
    "    \n",
    "    return shortest_path_lengths"
   ]
  },
  {
   "cell_type": "markdown",
   "metadata": {},
   "source": [
    "### Question 10\n",
    "\n",
    "The diameter of the graph is the length of the longest shortest path between any pair of nodes. Use the above developed function to compute the diameter of the graph (or the diameter of the largest connected component of the graph if the graph is not connected). If your graph (or largest connected component) is very large, computing the diameter will take very long. In that case downsample your graph so that it has 1.000 nodes. There are many ways to reduce the size of a graph. For the purposes of this milestone you can chose to randomly select 1.000 nodes. "
   ]
  },
  {
   "cell_type": "code",
   "execution_count": null,
   "metadata": {},
   "outputs": [],
   "source": [
    "# Your code here."
   ]
  },
  {
   "cell_type": "markdown",
   "metadata": {},
   "source": [
    "### Question 11\n",
    "\n",
    "Write a function that takes as input the adjacency matrix, a path length, and two nodes (`source` and `target`), and returns the number of paths of the given length between them."
   ]
  },
  {
   "cell_type": "code",
   "execution_count": null,
   "metadata": {},
   "outputs": [],
   "source": [
    "def compute_paths(adjacency, source, target, length):\n",
    "    \"\"\"Compute the number of paths of a given length between a source and target node.\n",
    "    \n",
    "    Parameters\n",
    "    ----------\n",
    "    adjacency: numpy array\n",
    "        The (weighted) adjacency matrix of a graph.\n",
    "    source: int\n",
    "        The source node. A number between 0 and n_nodes-1.\n",
    "    target: int\n",
    "        The target node. A number between 0 and n_nodes-1.\n",
    "    length: int\n",
    "        The path length to be considered.\n",
    "    \n",
    "    Returns\n",
    "    -------\n",
    "    int\n",
    "        The number of paths.\n",
    "    \"\"\"\n",
    "    \n",
    "    # Your code here.\n",
    "    \n",
    "    return n_paths"
   ]
  },
  {
   "cell_type": "markdown",
   "metadata": {},
   "source": [
    "Test your function on 5 pairs of nodes, with different lengths."
   ]
  },
  {
   "cell_type": "code",
   "execution_count": null,
   "metadata": {},
   "outputs": [],
   "source": [
    "print(compute_paths(adjacency, 0, 10, 1))\n",
    "print(compute_paths(adjacency, 0, 10, 2))\n",
    "print(compute_paths(adjacency, 0, 10, 3))\n",
    "print(compute_paths(adjacency, 23, 67, 2))\n",
    "print(compute_paths(adjacency, 15, 93, 4))"
   ]
  },
  {
   "cell_type": "markdown",
   "metadata": {},
   "source": [
    "### Question 12\n",
    "\n",
    "How many paths of length 3 are there in your graph? Hint: calling the `compute_paths` function on every pair of node is not an efficient way to do it."
   ]
  },
  {
   "cell_type": "code",
   "execution_count": null,
   "metadata": {},
   "outputs": [],
   "source": [
    "# Your code here."
   ]
  },
  {
   "cell_type": "markdown",
   "metadata": {},
   "source": [
    "### Question 13\n",
    "\n",
    "Write a function that takes as input the adjacency matrix of your graph (or of the largest connected component of your graph) and a node and returns the clustering coefficient of that node. "
   ]
  },
  {
   "cell_type": "code",
   "execution_count": null,
   "metadata": {},
   "outputs": [],
   "source": [
    "def compute_clustering_coefficient(adjacency, node):\n",
    "    \"\"\"Compute the clustering coefficient of a node.\n",
    "    \n",
    "    Parameters\n",
    "    ----------\n",
    "    adjacency: numpy array\n",
    "        The (weighted) adjacency matrix of a graph.\n",
    "    node: int\n",
    "        The node whose clustering coefficient will be computed. A number between 0 and n_nodes-1.\n",
    "    \n",
    "    Returns\n",
    "    -------\n",
    "    float\n",
    "        The clustering coefficient of the node. A number between 0 and 1.\n",
    "    \"\"\"\n",
    "    \n",
    "    # Your code here.\n",
    "    \n",
    "    return clustering_coefficient"
   ]
  },
  {
   "cell_type": "markdown",
   "metadata": {},
   "source": [
    "### Question 14\n",
    "\n",
    "What is the average clustering coefficient of your graph (or of the largest connected component of your graph if your graph is disconnected)? Use the function ``compute_clustering_coefficient`` to determine your answer."
   ]
  },
  {
   "cell_type": "code",
   "execution_count": null,
   "metadata": {},
   "outputs": [],
   "source": [
    "# Your code here."
   ]
  }
 ],
 "metadata": {
  "kernelspec": {
   "display_name": "Python 3",
   "language": "python",
   "name": "python3"
  },
  "language_info": {
   "codemirror_mode": {
    "name": "ipython",
    "version": 3
   },
   "file_extension": ".py",
   "mimetype": "text/x-python",
   "name": "python",
   "nbconvert_exporter": "python",
   "pygments_lexer": "ipython3",
   "version": "3.6.6"
  }
 },
 "nbformat": 4,
 "nbformat_minor": 2
}
