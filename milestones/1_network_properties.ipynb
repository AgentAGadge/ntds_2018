{
 "cells": [
  {
   "cell_type": "markdown",
   "metadata": {},
   "source": [
    "# NTDS'18 milestone 1: network collection and properties\n",
    "[Effrosyni Simou](https://lts4.epfl.ch/simou), [EPFL LTS4](https://lts4.epfl.ch)"
   ]
  },
  {
   "cell_type": "markdown",
   "metadata": {},
   "source": [
    "## Students\n",
    "\n",
    "* Team: `<your team number>`\n",
    "* Students: `<the name of all students in the team>`\n",
    "* Dataset: `<the dataset you used to complete the milestone>`"
   ]
  },
  {
   "cell_type": "markdown",
   "metadata": {},
   "source": [
    "## Rules\n",
    "\n",
    "* Milestones have to be completed by teams. No collaboration between teams is allowed.\n",
    "* Textual answers shall be short. Typically one to three sentences.\n",
    "* Code has to be clean.\n",
    "* You cannot import any other library than we imported.\n",
    "* When submitting, the notebook is executed and the results are stored. I.e., if you open the notebook again it should show numerical results and plots. We won't be able to execute your notebooks.\n",
    "* The notebook is re-executed from a blank state before submission. That is to be sure it is reproducible. You can click \"Kernel\" then \"Restart & Run All\" in Jupyter."
   ]
  },
  {
   "cell_type": "markdown",
   "metadata": {},
   "source": [
    "## Objective "
   ]
  },
  {
   "cell_type": "markdown",
   "metadata": {},
   "source": [
    "The purpose of this milestone is to start getting acquainted to the network that you will use for this class. In the first part of the milestone you will import your data using [Pandas](http://pandas.pydata.org) and you will create the adjacency matrix using [Numpy](http://www.numpy.org). This part is project specific. In the second part you will have to compute some basic properties of your network. **For the computation of the properties you are only allowed to use the packages that have been imported in the cell below.** You are not allowed to use any graph-specific toolboxes for this milestone (such as networkx and PyGSP). Furthermore, the aim is not to blindly compute the network properties, but to also start to think about what kind of network you will be working with this semester. "
   ]
  },
  {
   "cell_type": "code",
   "execution_count": 1,
   "metadata": {},
   "outputs": [],
   "source": [
    "import numpy as np\n",
    "import pandas as pd\n",
    "import matplotlib.pyplot as plt\n",
    "\n",
    "#Import json to retrieve the data\n",
    "import json\n",
    "#Import requests to send CURL requests to the API. This needs to be installed beforehand\n",
    "import requests\n",
    "#Import distances\n",
    "from scipy.spatial.distance import pdist, squareform"
   ]
  },
  {
   "cell_type": "markdown",
   "metadata": {},
   "source": [
    "## Part 1 - Import your data and manipulate them. "
   ]
  },
  {
   "cell_type": "markdown",
   "metadata": {},
   "source": [
    "###  A. Load your data in a Panda dataframe."
   ]
  },
  {
   "cell_type": "markdown",
   "metadata": {},
   "source": [
    "First, you should define and understand what are your nodes, what features you have and what are your labels. Please provide below a Panda dataframe where each row corresponds to a node with its features and labels. For example, in the the case of the Free Music Archive (FMA) Project, each row of the dataframe would be of the following form:\n",
    "\n",
    "\n",
    "| Track   |  Feature 1  | Feature 2 | . . . | Feature 518|  Label 1 |  Label 2 |. . .|Label 16|\n",
    "|:-------:|:-----------:|:---------:|:-----:|:----------:|:--------:|:--------:|:---:|:------:|\n",
    "|         |             |           |       |            |          |          |     |        |\n",
    "\n",
    "It is possible that in some of the projects either the features or the labels are not available. This is OK, in that case just make sure that you create a dataframe where each of the rows corresponds to a node and its associated features or labels."
   ]
  },
  {
   "cell_type": "code",
   "execution_count": 2,
   "metadata": {},
   "outputs": [],
   "source": [
    "#Define a reference function to retrieve data from the API. It returns the \"results\" object of the retrieved json file.\n",
    "#You need an API key stored in the APIKey.txt file\n",
    "def getFromAPI(url):\n",
    "    with open (\"APIKey.txt\", \"r\") as keyFile:\n",
    "        apiKey=keyFile.readline()\n",
    "        if apiKey[-1] == '\\n':\n",
    "            apiKey = apiKey[:-1]\n",
    "            \n",
    "    headers = {'X-API-Key': apiKey}\n",
    "    \n",
    "    r = requests.get(url, headers = headers)\n",
    "    r = r.json() #Parse the result to a json file\n",
    "    #print(r['status'])#Should display \"Ok\"\n",
    "    \n",
    "    results = r['results'] #Retrieve the interesting part\n",
    "    results = results[0]\n",
    "    \n",
    "    return results\n",
    "\n",
    "#This function filters out the senators not in office anymore\n",
    "def filterActiveSenators(senatorsList):\n",
    "    senatorActiveList = []\n",
    "    for senator in senatorsList:\n",
    "        if senator[\"in_office\"]:\n",
    "            senatorActiveList.append(senator)\n",
    "    nbActiveSenators = len(senatorActiveList)\n",
    "    print(\"There are \" + str(nbActiveSenators) + \" active senators among the \" + str(len(senatorsList)) + \" senators\")\n",
    "    return senatorActiveList"
   ]
  },
  {
   "cell_type": "code",
   "execution_count": 3,
   "metadata": {},
   "outputs": [],
   "source": [
    "# Parameters\n",
    "\n",
    "requestsPerSenators = 40; #The number of considered votes will be 20*requestsPerSenators\n",
    "weights_threshold = 0.5; #Threshold applied to the weights to determine if a link is to be made or not"
   ]
  },
  {
   "cell_type": "code",
   "execution_count": null,
   "metadata": {},
   "outputs": [
    {
     "name": "stdout",
     "output_type": "stream",
     "text": [
      "There are 100 active senators among the 105 senators\n"
     ]
    }
   ],
   "source": [
    "# Retrieve the list of all senators, filter it and save it\n",
    "r = getFromAPI(\"https://api.propublica.org/congress/v1/115/senate/members.json\")\n",
    "senatorsList = r[\"members\"]\n",
    "senatorActiveList = filterActiveSenators(senatorsList)\n",
    "DFsenators = pd.io.json.json_normalize(senatorActiveList)\n",
    "\n",
    "np.save('senatorActiveList',senatorActiveList)\n",
    "\n",
    "# Build the DataFrames : votesBySenators and votes\n",
    "jDFvotesBySenators = [] #Dataframe built in a list of dictionnaries\n",
    "jDFvotes = [] \n",
    "uniqueVotes = [];\n",
    "\n",
    "for senator in senatorActiveList: # For each senator, retrieve his/her votes (features ) and his/her labels\n",
    "    #For each senator, keep track of his votes in a dictionary and complete the dictionnary with the relevant labels\n",
    "    senatorDict = senator\n",
    "    for offset in range(0,requestsPerSenators*20,20): #Retrieve the votes 20 by 20\n",
    "        r = getFromAPI(\"https://api.propublica.org/congress/v1/members/\"+senator['id']+\"/votes.json?offset=\"+str(offset))\n",
    "        votes = r['votes'] #List of votes in this range\n",
    "        for vote in votes: #For each vote in the range, append it to the dictionnary of the senator\n",
    "            voteID = \"S\"+vote['session']+\"C\"+vote['roll_call']\n",
    "            senatorDict[voteID]=vote['position']\n",
    "            \n",
    "            if voteID not in uniqueVotes: #If we never encountered that vote, add it to the jDFvotes\n",
    "                del vote[\"member_id\"]\n",
    "                del vote[\"position\"]\n",
    "                vote[\"id\"] = voteID\n",
    "                uniqueVotes.append(voteID)\n",
    "                jDFvotes.append(vote)\n",
    "    jDFvotesBySenators.append(senatorDict)\n",
    "\n",
    "DFvotes = pd.io.json.json_normalize(jDFvotes)\n",
    "DFvotesBySenators = pd.io.json.json_normalize(jDFvotesBySenators)\n",
    "DFvotesBySenators\n",
    "DFvotesBySenators.to_pickle('./DFvotesBySenators.pkl')\n",
    "DFvotes.to_pickle('./DFvotes.pkl')\n"
   ]
  },
  {
   "cell_type": "code",
   "execution_count": null,
   "metadata": {},
   "outputs": [],
   "source": [
    "features = DFvotesBySenators[uniqueVotes]\n",
    "\n",
    "labelsList = DFvotesBySenators.columns.tolist()\n",
    "for x in uniqueVotes:\n",
    "    labelsList.remove(x)\n",
    "    \n",
    "labels = DFvotesBySenators[labelsList]"
   ]
  },
  {
   "cell_type": "code",
   "execution_count": null,
   "metadata": {
    "scrolled": true
   },
   "outputs": [],
   "source": [
    "features"
   ]
  },
  {
   "cell_type": "code",
   "execution_count": null,
   "metadata": {},
   "outputs": [],
   "source": [
    "labels"
   ]
  },
  {
   "cell_type": "markdown",
   "metadata": {},
   "source": [
    "### B. Create the adjacency matrix of your network."
   ]
  },
  {
   "cell_type": "markdown",
   "metadata": {},
   "source": [
    "Remember that there are edges connecting the attributed nodes that you organized in the dataframe above. The connectivity of the network is captured by the adjacency matrix $W$. If $N$ is the number of nodes, the adjacency matrix is an $N \\times N$ matrix where the value of $W(i,j)$ is the weight of the edge connecting node $i$ to node $j$.  \n",
    "\n",
    "There are two possible scenarios for your adjacency matrix construction, as you already learned in the tutorial by Benjamin:\n",
    "\n",
    "1) The edges are given to you explicitly. In this case you should simply load the file containing the edge information and parse it in order to create your adjacency matrix. See how to do that in [this tutorial](../tutorials/02a_graph_from_edge_list.ipynb).\n",
    "\n",
    "2) The edges are not given to you. In that case you will have to create a feature graph. In order to do that you will have to chose a distance that will quantify how similar two nodes are based on the values in their corresponding feature vectors. [This tutorial](../tutorials/02b_graph_from_features.ipynb) shows you how to build feature graphs when using Euclidean distances between feature vectors. Be curious and explore other distances as well! For instance, in the case of high-dimensional feature vectors, you might want to consider using the cosine distance. Once you compute the distances between your nodes you will have a fully connected network. Do not forget to sparsify by keeping the most important edges in your network.\n",
    "\n",
    "Follow the appropriate steps for the construction of the adjacency matrix of your network and provide it in the Numpy array ``adjacency`` below: "
   ]
  },
  {
   "cell_type": "code",
   "execution_count": 4,
   "metadata": {},
   "outputs": [],
   "source": [
    "#To avoid re-launch the script and all the API queries:\n",
    "features = pd.read_csv('features.csv')\n",
    "labels = pd.read_csv('labels.csv')"
   ]
  },
  {
   "cell_type": "code",
   "execution_count": 5,
   "metadata": {},
   "outputs": [
    {
     "data": {
      "image/png": "[encoded data removed]",
      "text/plain": [
       "<Figure size 432x288 with 1 Axes>"
      ]
     },
     "metadata": {},
     "output_type": "display_data"
    },
    {
     "name": "stdout",
     "output_type": "stream",
     "text": [
      "[[0.         0.         0.96020999 ... 0.51246847 0.         0.        ]\n",
      " [0.         0.         0.         ... 0.         0.         0.        ]\n",
      " [0.96020999 0.         0.         ... 0.53057498 0.         0.        ]\n",
      " ...\n",
      " [0.51246847 0.         0.53057498 ... 0.         0.         0.92729148]\n",
      " [0.         0.         0.         ... 0.         0.         0.        ]\n",
      " [0.         0.         0.         ... 0.92729148 0.         0.        ]]\n",
      "100.0\n"
     ]
    }
   ],
   "source": [
    "#Compute the weigths of the network\n",
    "\n",
    "#Convert features to numbers\n",
    "features = features.replace('Yes',1)\n",
    "features = features.replace('No',0)\n",
    "\n",
    "#All others values should be NaN\n",
    "cols= features.columns\n",
    "features[cols] = features[cols].apply(pd.to_numeric, errors='coerce')\n",
    "\n",
    "\n",
    "#Define a distance ignoring the NaN values\n",
    "def euclidian_without_NaN(x, y):\n",
    "    return  np.sqrt(np.nansum(((x-y)**2)))\n",
    "\n",
    "def l1_normalized_without_NaN(x, y):\n",
    "    return  np.nansum((np.absolute(x-y)))/np.count_nonzero(~np.isnan(x-y))\n",
    "\n",
    "distances = pdist(features.values, l1_normalized_without_NaN)\n",
    "\n",
    "#Distances to weights\n",
    "kernel_width = distances.mean()\n",
    "weights = np.exp(-distances**2 / kernel_width**2)\n",
    "\n",
    "\n",
    "\n",
    "# Turn the list of weights into a matrix.\n",
    "adjacency = squareform(weights)\n",
    "#Apply a threshold to the weights to avoid a completely connected network\n",
    "plt.hist(weights)\n",
    "plt.title('Distribution of weights')\n",
    "plt.show()\n",
    "adjacency[adjacency < weights_threshold] = 0\n",
    "\n",
    "\n",
    "print(adjacency)\n",
    "\n",
    "n_nodes = np.sqrt(adjacency.size)\n",
    "print(n_nodes)"
   ]
  },
  {
   "cell_type": "markdown",
   "metadata": {},
   "source": [
    "## Part 2"
   ]
  },
  {
   "cell_type": "markdown",
   "metadata": {},
   "source": [
    "Execute the cell below to plot the (weighted) adjacency matrix of your network."
   ]
  },
  {
   "cell_type": "code",
   "execution_count": 6,
   "metadata": {},
   "outputs": [
    {
     "data": {
      "text/plain": [
       "Text(0.5,1.05,'adjacency matrix')"
      ]
     },
     "execution_count": 6,
     "metadata": {},
     "output_type": "execute_result"
    },
    {
     "data": {
      "image/png": "[encoded data removed]",
      "text/plain": [
       "<Figure size 432x288 with 1 Axes>"
      ]
     },
     "metadata": {},
     "output_type": "display_data"
    }
   ],
   "source": [
    "plt.spy(adjacency, markersize=1)\n",
    "plt.title('adjacency matrix')"
   ]
  },
  {
   "cell_type": "markdown",
   "metadata": {},
   "source": [
    "### Question 1\n",
    "\n",
    "What is the maximum number of links $L_{max}$ in a network with $N$ nodes (where $N$ is the number of nodes in your network)? How many links $L$ are there in your collected network? Comment on the sparsity of your network."
   ]
  },
  {
   "cell_type": "code",
   "execution_count": 7,
   "metadata": {},
   "outputs": [
    {
     "name": "stdout",
     "output_type": "stream",
     "text": [
      "There are 2095.0 links in the network\n"
     ]
    }
   ],
   "source": [
    "L = np.count_nonzero(adjacency)/2\n",
    "print(\"There are \"+str(L)+\" links in the network\")"
   ]
  },
  {
   "cell_type": "markdown",
   "metadata": {},
   "source": [
    "**Your answer here.**\n",
    "\n",
    "The maximum number of links in an undirected newtork with N nodes, without self-links is N*(N-1)/2. With our network, this means up to 4950 links. We have 2185 links in our network after the thresholding.\n"
   ]
  },
  {
   "cell_type": "markdown",
   "metadata": {},
   "source": [
    "### Question 2\n",
    "\n",
    "Is your graph directed or undirected? If it is directed, convert it to an undirected graph by symmetrizing the adjacency matrix."
   ]
  },
  {
   "cell_type": "markdown",
   "metadata": {},
   "source": [
    "**Your answer here.**\n",
    "\n",
    "Our network is already undirected"
   ]
  },
  {
   "cell_type": "code",
   "execution_count": null,
   "metadata": {},
   "outputs": [],
   "source": []
  },
  {
   "cell_type": "markdown",
   "metadata": {},
   "source": [
    "### Question 3\n",
    "\n",
    "In the cell below save the features dataframe and the **symmetrized** adjacency matrix. You can use the Pandas ``to_csv`` to save the ``features`` and Numpy's ``save`` to save the ``adjacency``. We will reuse those in the following milestones."
   ]
  },
  {
   "cell_type": "code",
   "execution_count": 8,
   "metadata": {},
   "outputs": [],
   "source": [
    "features.to_csv('features.csv')\n",
    "labels.to_csv('labels.csv')\n",
    "np.save('adjacency',adjacency)"
   ]
  },
  {
   "cell_type": "markdown",
   "metadata": {},
   "source": [
    "### Question 4\n",
    "\n",
    "Are the edges of your graph weighted?"
   ]
  },
  {
   "cell_type": "markdown",
   "metadata": {},
   "source": [
    "**Your answer here.**\n",
    "\n",
    "Yes, the weights were constructed from the euclidian distances between the features of each senator."
   ]
  },
  {
   "cell_type": "markdown",
   "metadata": {},
   "source": [
    "### Question 5\n",
    "\n",
    "What is the degree distibution of your network? "
   ]
  },
  {
   "cell_type": "code",
   "execution_count": 9,
   "metadata": {},
   "outputs": [],
   "source": [
    "degree =  np.sum(adjacency, axis=0)\n",
    "\n",
    "assert len(degree) == n_nodes"
   ]
  },
  {
   "cell_type": "markdown",
   "metadata": {},
   "source": [
    "Execute the cell below to see the histogram of the degree distribution."
   ]
  },
  {
   "cell_type": "code",
   "execution_count": 10,
   "metadata": {},
   "outputs": [
    {
     "data": {
      "image/png": "[encoded data removed]",
      "text/plain": [
       "<Figure size 432x288 with 1 Axes>"
      ]
     },
     "metadata": {},
     "output_type": "display_data"
    }
   ],
   "source": [
    "weights = np.ones_like(degree) / float(n_nodes)\n",
    "plt.hist(degree, weights=weights);"
   ]
  },
  {
   "cell_type": "markdown",
   "metadata": {},
   "source": [
    "What is the average degree?"
   ]
  },
  {
   "cell_type": "code",
   "execution_count": 11,
   "metadata": {},
   "outputs": [
    {
     "data": {
      "text/plain": [
       "32.71877115846858"
      ]
     },
     "execution_count": 11,
     "metadata": {},
     "output_type": "execute_result"
    }
   ],
   "source": [
    "np.mean(degree)"
   ]
  },
  {
   "cell_type": "markdown",
   "metadata": {},
   "source": [
    "### Question 6\n",
    "\n",
    "Comment on the degree distribution of your network."
   ]
  },
  {
   "cell_type": "markdown",
   "metadata": {},
   "source": [
    "**Your answer here.**\n",
    "\n",
    "The majority of the nodes have a degree close to the average one (between 30 and 45). A few nodes have a very low degree, meaning some nodes are more isolated than the average node. "
   ]
  },
  {
   "cell_type": "markdown",
   "metadata": {},
   "source": [
    "### Question 7\n",
    "\n",
    "Write a function that takes as input the adjacency matrix of a graph and determines whether the graph is connected or not."
   ]
  },
  {
   "cell_type": "code",
   "execution_count": null,
   "metadata": {},
   "outputs": [],
   "source": [
    "def connected_graph(adjacency):\n",
    "    \"\"\"Determines whether a graph is connected.\n",
    "    \n",
    "    Parameters\n",
    "    ----------\n",
    "    adjacency: numpy array\n",
    "        The (weighted) adjacency matrix of a graph.\n",
    "    \n",
    "    Returns\n",
    "    -------\n",
    "    bool\n",
    "        True if the graph is connected, False otherwise.\n",
    "    \"\"\"\n",
    "    \n",
    "    # Your code here.\n",
    "    numOfNodes = adjacency.shape[0]\n",
    "    \n",
    "    # Implementation of BFS algorithm\n",
    "    visited = np.zeros(numOfNodes)\n",
    "    visited[0] = 1\n",
    "    queue = np.array([0])\n",
    "    while (queue.size != 0):\n",
    "        head = queue[0]\n",
    "        queue = np.delete(queue, 0)\n",
    "        for nodeId, isNeibor in enumerate(adjacency[head]):\n",
    "            if (visited[nodeId] == 0 and isNeibor):\n",
    "                queue = np.append(queue, nodeId)\n",
    "                visited[nodeId] = 1\n",
    "            \n",
    "    \n",
    "    \n",
    "    print(visited)\n",
    "    return visited.sum() == numOfNodes"
   ]
  },
  {
   "cell_type": "markdown",
   "metadata": {},
   "source": [
    "Is your graph connected? Run the ``connected_graph`` function to determine your answer."
   ]
  },
  {
   "cell_type": "code",
   "execution_count": null,
   "metadata": {},
   "outputs": [],
   "source": [
    "# Your code here.\n",
    "connected_graph(adjacency)"
   ]
  },
  {
   "cell_type": "markdown",
   "metadata": {},
   "source": [
    "The graph is not connencted, senator n°54 has no edges"
   ]
  },
  {
   "cell_type": "markdown",
   "metadata": {},
   "source": [
    "### Question 8\n",
    "\n",
    "Write a function that extracts the connected components of a graph."
   ]
  },
  {
   "cell_type": "code",
   "execution_count": null,
   "metadata": {},
   "outputs": [],
   "source": [
    "def find_components(adjacency):\n",
    "    \"\"\"Find the connected components of a graph.\n",
    "    \n",
    "    Parameters\n",
    "    ----------\n",
    "    adjacency: numpy array\n",
    "        The (weighted) adjacency matrix of a graph.\n",
    "    \n",
    "    Returns\n",
    "    -------\n",
    "    list of numpy arrays\n",
    "        A list of adjacency matrices, one per connected component.\n",
    "    \"\"\"\n",
    "    \n",
    "    \n",
    "    return components"
   ]
  },
  {
   "cell_type": "code",
   "execution_count": null,
   "metadata": {},
   "outputs": [],
   "source": []
  },
  {
   "cell_type": "markdown",
   "metadata": {},
   "source": [
    "How many connected components is your network composed of? What is the size of the largest connected component? Run the ``find_components`` function to determine your answer. "
   ]
  },
  {
   "cell_type": "code",
   "execution_count": null,
   "metadata": {},
   "outputs": [],
   "source": [
    "# Your code here."
   ]
  },
  {
   "cell_type": "markdown",
   "metadata": {},
   "source": [
    "### Question 9\n",
    "\n",
    "Write a function that takes as input the adjacency matrix and a node (`source`) and returns the length of the shortest path between that node and all nodes in the graph using Dijkstra's algorithm. **For the purposes of this assignment we are interested in the hop distance between nodes, not in the sum of weights. **\n",
    "\n",
    "Hint: You might want to mask the adjacency matrix in the function ``compute_shortest_path_lengths`` in order to make sure you obtain a binary adjacency matrix. "
   ]
  },
  {
   "cell_type": "code",
   "execution_count": null,
   "metadata": {},
   "outputs": [],
   "source": [
    "def adjacencyToBinary(adjacency):\n",
    "    \"\"\" Returns the sign of each element in the adjacency matrix\"\"\"\n",
    "    return np.sign(adjacency)\n",
    "\n",
    "def compute_shortest_path_lengths(adjacency, source):\n",
    "    \"\"\"Compute the shortest path length between a source node and all nodes.\n",
    "    \n",
    "    Parameters\n",
    "    ----------\n",
    "    adjacency: numpy array\n",
    "        The (weighted) adjacency matrix of a graph.\n",
    "    source: int\n",
    "        The source node. A number between 0 and n_nodes-1.\n",
    "    \n",
    "    Returns\n",
    "    -------\n",
    "    list of ints\n",
    "        The length of the shortest path from source to all nodes. Returned list should be of length n_nodes.\n",
    "    \"\"\"\n",
    "    # Find the shortest path using DIJSKTRA's algorithm\n",
    "    numOfNodes = adjacency.shape[0]\n",
    "    adjacencyBinary = adjacencyToBinary(adjacency)\n",
    "    dist = np.zeros(numOfNodes)\n",
    "    dist += float('inf')\n",
    "    prev = -np.ones(numOfNodes)\n",
    "    dist[source] = 0\n",
    "    distAux = dist.copy()\n",
    "    vertex = np.arange(numOfNodes)\n",
    "    \n",
    "    while vertex.size > 0 and np.min(distAux) < float('inf'):\n",
    "        node = np.argmin(distAux)\n",
    "        vertex = np.delete(vertex, np.where(vertex == node))\n",
    "        \n",
    "        for ind, n in enumerate(adjacencyBinary[node]):\n",
    "            if (n and (dist[node] + 1 < dist[ind])):\n",
    "                dist[ind] = dist[node] + 1\n",
    "                distAux[ind] = distAux[node] + 1\n",
    "                prev[ind] = node\n",
    "    \n",
    "        # Mark node as visited\n",
    "        distAux[node] = float('inf')\n",
    "    dist[dist >= 10**300] = float('inf')\n",
    "    return dist"
   ]
  },
  {
   "cell_type": "code",
   "execution_count": null,
   "metadata": {},
   "outputs": [],
   "source": [
    "compute_shortest_path_lengths(adjacency, 0)"
   ]
  },
  {
   "cell_type": "markdown",
   "metadata": {},
   "source": [
    "### Question 10\n",
    "\n",
    "The diameter of the graph is the length of the longest shortest path between any pair of nodes. Use the above developed function to compute the diameter of the graph (or the diameter of the largest connected component of the graph if the graph is not connected). If your graph (or largest connected component) is very large, computing the diameter will take very long. In that case downsample your graph so that it has 1.000 nodes. There are many ways to reduce the size of a graph. For the purposes of this milestone you can chose to randomly select 1.000 nodes. "
   ]
  },
  {
   "cell_type": "code",
   "execution_count": null,
   "metadata": {},
   "outputs": [],
   "source": [
    "# Your code here."
   ]
  },
  {
   "cell_type": "markdown",
   "metadata": {},
   "source": [
    "### Question 11\n",
    "\n",
    "Write a function that takes as input the adjacency matrix, a path length, and two nodes (`source` and `target`), and returns the number of paths of the given length between them."
   ]
  },
  {
   "cell_type": "code",
   "execution_count": null,
   "metadata": {},
   "outputs": [],
   "source": [
    "def compute_paths(adjacency, source, target, length):\n",
    "    \"\"\"Compute the number of paths of a given length between a source and target node.\n",
    "    \n",
    "    Parameters\n",
    "    ----------\n",
    "    adjacency: numpy array\n",
    "        The (weighted) adjacency matrix of a graph.\n",
    "    source: int\n",
    "        The source node. A number between 0 and n_nodes-1.\n",
    "    target: int\n",
    "        The target node. A number between 0 and n_nodes-1.\n",
    "    length: int\n",
    "        The path length to be considered.\n",
    "    \n",
    "    Returns\n",
    "    -------\n",
    "    int\n",
    "        The number of paths.\n",
    "    \"\"\"\n",
    "    \n",
    "    # Your code here.\n",
    "    \n",
    "    return n_paths"
   ]
  },
  {
   "cell_type": "markdown",
   "metadata": {},
   "source": [
    "Test your function on 5 pairs of nodes, with different lengths."
   ]
  },
  {
   "cell_type": "code",
   "execution_count": null,
   "metadata": {},
   "outputs": [],
   "source": [
    "print(compute_paths(adjacency, 0, 10, 1))\n",
    "print(compute_paths(adjacency, 0, 10, 2))\n",
    "print(compute_paths(adjacency, 0, 10, 3))\n",
    "print(compute_paths(adjacency, 23, 67, 2))\n",
    "print(compute_paths(adjacency, 15, 93, 4))"
   ]
  },
  {
   "cell_type": "markdown",
   "metadata": {},
   "source": [
    "### Question 12\n",
    "\n",
    "How many paths of length 3 are there in your graph? Hint: calling the `compute_paths` function on every pair of node is not an efficient way to do it."
   ]
  },
  {
   "cell_type": "code",
   "execution_count": null,
   "metadata": {},
   "outputs": [],
   "source": [
    "# Your code here."
   ]
  },
  {
   "cell_type": "markdown",
   "metadata": {},
   "source": [
    "### Question 13\n",
    "\n",
    "Write a function that takes as input the adjacency matrix of your graph (or of the largest connected component of your graph) and a node and returns the clustering coefficient of that node. "
   ]
  },
  {
   "cell_type": "code",
   "execution_count": 12,
   "metadata": {},
   "outputs": [],
   "source": [
    "def compute_clustering_coefficient(adjacency, node):\n",
    "    \"\"\"Compute the clustering coefficient of a node.\n",
    "    \n",
    "    Parameters\n",
    "    ----------\n",
    "    adjacency: numpy array\n",
    "        The (weighted) adjacency matrix of a graph.\n",
    "    node: int\n",
    "        The node whose clustering coefficient will be computed. A number between 0 and n_nodes-1.\n",
    "    \n",
    "    Returns\n",
    "    -------\n",
    "    float\n",
    "        The clustering coefficient of the node. A number between 0 and 1.\n",
    "    \"\"\"\n",
    "    \n",
    "    neighbors = np.nonzero(adjacency[node])[0]\n",
    "    nbr_neighbors = neighbors.size\n",
    "    total_edges = nbr_neighbors*(nbr_neighbors-1)\n",
    "    \n",
    "    neighbor_adjacency = adjacency[neighbors][:,neighbors]\n",
    "    nbr_edges = neighbor_adjacency.sum()\n",
    "    \n",
    "    clustering_coefficient = nbr_edges / total_edges\n",
    "    \n",
    "    return clustering_coefficient"
   ]
  },
  {
   "cell_type": "markdown",
   "metadata": {},
   "source": [
    "### Question 14\n",
    "\n",
    "What is the average clustering coefficient of your graph (or of the largest connected component of your graph if your graph is disconnected)? Use the function ``compute_clustering_coefficient`` to determine your answer."
   ]
  },
  {
   "cell_type": "code",
   "execution_count": 13,
   "metadata": {},
   "outputs": [
    {
     "name": "stdout",
     "output_type": "stream",
     "text": [
      "Average clustering coefficient of the largest connected component: 0.7140966246318072\n"
     ]
    }
   ],
   "source": [
    "# Our graph is disconnected, we should compute the average clustering coefficient \n",
    "# of the largest component. \n",
    "connected_component = np.delete(np.delete(adjacency,54,0),54,1) # find_components(adjacency)[0]\n",
    "nbr_nodes = connected_component.shape[0]\n",
    "avg_clustering_coeff = 0\n",
    "for index in range(nbr_nodes):\n",
    "    avg_clustering_coeff += compute_clustering_coefficient(connected_component,index)\n",
    "    \n",
    "print(\"Average clustering coefficient of the largest connected component: {}\".format(avg_clustering_coeff/nbr_nodes))"
   ]
  },
  {
   "cell_type": "code",
   "execution_count": null,
   "metadata": {},
   "outputs": [],
   "source": []
  }
 ],
 "metadata": {
  "kernelspec": {
   "display_name": "Python 3",
   "language": "python",
   "name": "python3"
  },
  "language_info": {
   "codemirror_mode": {
    "name": "ipython",
    "version": 3
   },
   "file_extension": ".py",
   "mimetype": "text/x-python",
   "name": "python",
   "nbconvert_exporter": "python",
   "pygments_lexer": "ipython3",
   "version": "3.6.5"
  }
 },
 "nbformat": 4,
 "nbformat_minor": 2
}
