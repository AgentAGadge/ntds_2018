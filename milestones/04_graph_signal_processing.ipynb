{
 "cells": [
  {
   "cell_type": "markdown",
   "metadata": {},
   "source": [
    "# [NTDS'18] milestone 4: graph signal processing\n",
    "[ntds'18]: https://github.com/mdeff/ntds_2018\n",
    "\n",
    "[Rodrigo Pena](https://people.epfl.ch/254838?lang=en), [EPFL LTS2](http://lts2.epfl.ch)"
   ]
  },
  {
   "cell_type": "markdown",
   "metadata": {},
   "source": [
    "## Students\n",
    "\n",
    "* Team: `<your team number>`\n",
    "* Students: `<the name of all students in the team>`\n",
    "* Dataset: `<the dataset you used to complete the milestone>`"
   ]
  },
  {
   "cell_type": "markdown",
   "metadata": {},
   "source": [
    "## Rules\n",
    "\n",
    "* Milestones have to be completed by teams. No collaboration between teams is allowed.\n",
    "* Textual answers shall be short. Typically one to two sentences.\n",
    "* Code has to be clean.\n",
    "* You cannot import any other library than we imported.\n",
    "* When submitting, the notebook is executed and the results are stored. I.e., if you open the notebook again it should show numerical results and plots. We won't be able to execute your notebooks.\n",
    "* The notebook is re-executed from a blank state before submission. That is to be sure it is reproducible. You can click \"Kernel\" then \"Restart & Run All\" in Jupyter."
   ]
  },
  {
   "cell_type": "markdown",
   "metadata": {},
   "source": [
    "## Objective\n",
    "\n",
    "The goal of this milestone is to do some Graph Signal Processing (GSP) on the data of your project."
   ]
  },
  {
   "cell_type": "markdown",
   "metadata": {},
   "source": [
    "## 0 - Load your network"
   ]
  },
  {
   "cell_type": "code",
   "execution_count": 3,
   "metadata": {
    "collapsed": true
   },
   "outputs": [],
   "source": [
    "import numpy as np\n",
    "from scipy import sparse\n",
    "import scipy.sparse.linalg\n",
    "import matplotlib.pyplot as plt\n",
    "\n",
    "#from scipy import sparse, spatial\n",
    "#from pygsp import graphs, filters, plotting"
   ]
  },
  {
   "cell_type": "code",
   "execution_count": 5,
   "metadata": {
    "collapsed": true
   },
   "outputs": [],
   "source": [
    "%matplotlib inline"
   ]
  },
  {
   "cell_type": "markdown",
   "metadata": {},
   "source": [
    "For this milestone, all we will need are the Laplacian, $L,$ and Gradient, $\\nabla_G,$ matrices that you have computed for your network while following milestone 3, as well as a set of features/labels for each of the nodes on the network.\n",
    "\n",
    "- Work with a subset of graph and labels if your dataset is too big.\n",
    "- Load network as a PyGSP graph? [Documentation](https://pygsp.readthedocs.io/en/latest/reference/graphs.html)"
   ]
  },
  {
   "cell_type": "code",
   "execution_count": null,
   "metadata": {},
   "outputs": [],
   "source": [
    "laplacian = # Your code here.\n",
    "gradient = # Your code here.\n",
    "features = # Your code here.\n",
    "n_nodes = # Your code here."
   ]
  },
  {
   "cell_type": "markdown",
   "metadata": {},
   "source": [
    "## 1 - Graph Fourier Transform\n",
    "- Compute Fourier basis (G.e, G.U)\n",
    "- Visualize a couple of eigenvectors on the spectral embedding (a couple of low frequency ones, and a couple of high-frequency ones)\n",
    "- Visualize some label signal on the graph\n",
    "- Plot the GFT of this label signal.\n",
    "- Discuss amplitude of GFT vis-a-vis similarity between label signal and eigenvectors."
   ]
  },
  {
   "cell_type": "markdown",
   "metadata": {
    "code_folding": []
   },
   "source": [
    "## 2 - Filtering on graphs\n",
    "- Implement heat kernel f = filters.Heat(G, tau=10). \n",
    "- Plot the filters in the spectral domain.\n",
    "- Plot localization of filtered Diracs and compare with Laplacian vs. heat diffusion."
   ]
  },
  {
   "cell_type": "markdown",
   "metadata": {},
   "source": [
    "## 3 - De-noising \n",
    "- $x = y + \\eta$ noisy measurements.\n",
    "- Assumption: $x$ is \"smooth\", in the sense that $\\|g(L) x\\|_2$ is small.\n",
    "- $\\text{arg} \\, \\underset{x\\in \\mathbb{R}^{n}}{\\min} \\|x - y\\|^2 + \\gamma f^{\\top} g(L) f$\n",
    "- Derive closed form solution as a graph filtering operation (Hint: g(L) is just a matrix). Implementation with `np.linalg.solve()`.\n",
    "- Add noise to label and try to recover it (compare heavy-tailed vs. Gaussian noise?)\n",
    "- Compare GFT of noisy and recovered signal. What do you observe?"
   ]
  },
  {
   "cell_type": "markdown",
   "metadata": {
    "ExecuteTime": {
     "end_time": "2018-08-31T13:05:59.301384Z",
     "start_time": "2018-08-31T13:05:59.297336Z"
    }
   },
   "source": [
    "## 4 - Transductive learning\n",
    "- $\\text{arg} \\, \\underset{x|_S = y}{\\min} f_L(x)$\n",
    "- Subsample your label signal.\n",
    "- TL by minimizing quadratic form. Then, find a threshold.\n",
    "- TL by minimizing quadratic form on heat kernel. Then, find a threshold.\n",
    "- TL by minimizing graph total variation.\n",
    "    - Relationship with graph cuts\n",
    "- Compare those 3 approaches.\n",
    "    - Error and std. dev. as function of regularization parameter.\n",
    "    - Prediction error as function of m/n for the best regularization parameter."
   ]
  },
  {
   "cell_type": "markdown",
   "metadata": {},
   "source": [
    "## 5 - Takeaways"
   ]
  },
  {
   "cell_type": "code",
   "execution_count": null,
   "metadata": {},
   "outputs": [],
   "source": []
  }
 ],
 "metadata": {
  "kernel_info": {
   "name": "python3"
  },
  "kernelspec": {
   "display_name": "Python 3",
   "language": "python",
   "name": "python3"
  },
  "language_info": {
   "codemirror_mode": {
    "name": "ipython",
    "version": 3
   },
   "file_extension": ".py",
   "mimetype": "text/x-python",
   "name": "python",
   "nbconvert_exporter": "python",
   "pygments_lexer": "ipython3",
   "version": "3.6.5"
  },
  "latex_envs": {
   "LaTeX_envs_menu_present": true,
   "autoclose": true,
   "autocomplete": true,
   "bibliofile": "biblio.bib",
   "cite_by": "apalike",
   "current_citInitial": 1,
   "eqLabelWithNumbers": true,
   "eqNumInitial": 1,
   "hotkeys": {
    "equation": "Ctrl-E",
    "itemize": "Ctrl-I"
   },
   "labels_anchors": false,
   "latex_user_defs": false,
   "report_style_numbering": false,
   "user_envs_cfg": false
  },
  "nteract": {
   "version": "0.11.6"
  },
  "varInspector": {
   "cols": {
    "lenName": 16,
    "lenType": 16,
    "lenVar": 40
   },
   "kernels_config": {
    "python": {
     "delete_cmd_postfix": "",
     "delete_cmd_prefix": "del ",
     "library": "var_list.py",
     "varRefreshCmd": "print(var_dic_list())"
    },
    "r": {
     "delete_cmd_postfix": ") ",
     "delete_cmd_prefix": "rm(",
     "library": "var_list.r",
     "varRefreshCmd": "cat(var_dic_list()) "
    }
   },
   "types_to_exclude": [
    "module",
    "function",
    "builtin_function_or_method",
    "instance",
    "_Feature"
   ],
   "window_display": false
  }
 },
 "nbformat": 4,
 "nbformat_minor": 2
}
