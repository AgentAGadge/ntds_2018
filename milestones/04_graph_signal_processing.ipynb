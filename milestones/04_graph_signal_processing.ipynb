{
 "cells": [
  {
   "cell_type": "markdown",
   "metadata": {},
   "source": [
    "# [NTDS'18] milestone 4: graph signal processing\n",
    "[ntds'18]: https://github.com/mdeff/ntds_2018\n",
    "\n",
    "[Rodrigo Pena](https://people.epfl.ch/254838?lang=en)\n",
    "\n",
    "[EPFL LTS2](http://lts2.epfl.ch)\n",
    "\n",
    "The goal of this milestone is to do some Graph Signal Processing (GSP) on the data of your project. We will use the [PyGSP](https://github.com/epfl-lts2/pygsp) library to help us do that. If you have not yet done so, install PyGSP with\n",
    "```sh\n",
    "pip install pygsp\n",
    "```\n",
    "or\n",
    "```sh\n",
    "conda install -c conda-forge pygsp\n",
    "```"
   ]
  },
  {
   "cell_type": "code",
   "execution_count": 2,
   "metadata": {
    "collapsed": true
   },
   "outputs": [],
   "source": [
    "import numpy as np\n",
    "import pandas as pd\n",
    "import matplotlib.pyplot as plt\n",
    "\n",
    "from scipy import sparse, spatial\n",
    "from pygsp import graphs, filters, plotting"
   ]
  },
  {
   "cell_type": "code",
   "execution_count": 3,
   "metadata": {
    "collapsed": true
   },
   "outputs": [],
   "source": [
    "%matplotlib inline\n",
    "plt.rcParams['figure.figsize'] = (17, 5)\n",
    "plotting.BACKEND = 'matplotlib'"
   ]
  },
  {
   "cell_type": "markdown",
   "metadata": {
    "ExecuteTime": {
     "end_time": "2018-08-31T13:04:18.429847Z",
     "start_time": "2018-08-31T13:04:18.426531Z"
    }
   },
   "source": [
    "## 1 - Preprocessing\n",
    "- Work with a subset of graph and labels if your dataset is too big.\n",
    "- Load network as a PyGSP graph. [Documentation](https://pygsp.readthedocs.io/en/latest/reference/graphs.html)\n",
    "- Compute Laplacian (normalized? combinatorial?)"
   ]
  },
  {
   "cell_type": "code",
   "execution_count": null,
   "metadata": {
    "collapsed": true
   },
   "outputs": [],
   "source": [
    "# Your code goes here\n",
    "# BEGIN\n",
    "\n",
    "\n",
    "# END"
   ]
  },
  {
   "cell_type": "markdown",
   "metadata": {},
   "source": [
    "**Answer:** [Your answer goes here]"
   ]
  },
  {
   "cell_type": "markdown",
   "metadata": {},
   "source": [
    "## 2 - Graph Fourier Transform\n",
    "- Compute Fourier basis (G.e, G.U)\n",
    "- Visualize distribution of eigenvalues\n",
    "- Visualize graph with laplacian eigenmaps (k = 2 or 3) (G.set_coordinates)\n",
    "- Visualize a couple of eigenvectors on the spectral embedding (a couple of low frequency ones, and a couple of high-frequency ones)\n",
    "- Visualize some label signal on the graph\n",
    "- Plot the GFT of this label signal.\n",
    "- Discuss amplitude of GFT vis-a-vis similarity between label signal and eigenvectors.\n",
    "- Diffusion on graphs"
   ]
  },
  {
   "cell_type": "code",
   "execution_count": null,
   "metadata": {
    "collapsed": true
   },
   "outputs": [],
   "source": [
    "# Your code goes here\n",
    "# BEGIN\n",
    "\n",
    "\n",
    "# END"
   ]
  },
  {
   "cell_type": "markdown",
   "metadata": {},
   "source": [
    "**Answer:** [Your answer goes here]"
   ]
  },
  {
   "cell_type": "markdown",
   "metadata": {
    "code_folding": []
   },
   "source": [
    "## 3 - Diffusion on graphs\n",
    "- Heat kernel (f = filters.Heat(G, tau=10); f.plot())\n",
    "- Localization of filtered Diracs"
   ]
  },
  {
   "cell_type": "code",
   "execution_count": null,
   "metadata": {
    "collapsed": true
   },
   "outputs": [],
   "source": [
    "# Your code goes here\n",
    "# BEGIN\n",
    "\n",
    "\n",
    "# END"
   ]
  },
  {
   "cell_type": "markdown",
   "metadata": {},
   "source": [
    "**Answer:** [Your answer goes here]"
   ]
  },
  {
   "cell_type": "markdown",
   "metadata": {},
   "source": [
    "## 4 - De-noising \n",
    "- $\\text{arg} \\, \\underset{f\\in \\mathbb{R}^{n}}{\\min} \\|f - y\\|^2 + \\gamma f^{\\top} L f$\n",
    "- Derive closed form solution as a graph filtering operation. Implementation with `np.linalg.solve()`.\n",
    "- Add noise to label and try to recover it (compare heavy-tailed vs. Gaussian noise?)\n",
    "- Plot localization of filtered Diracs and compare with heat diffusion\n",
    "- Compare GFT of noisy and recovered signal. What do you observe?"
   ]
  },
  {
   "cell_type": "code",
   "execution_count": null,
   "metadata": {
    "collapsed": true
   },
   "outputs": [],
   "source": [
    "# Your code goes here\n",
    "# BEGIN\n",
    "\n",
    "\n",
    "# END"
   ]
  },
  {
   "cell_type": "markdown",
   "metadata": {},
   "source": [
    "**Answer:** [Your answer goes here]"
   ]
  },
  {
   "cell_type": "markdown",
   "metadata": {
    "ExecuteTime": {
     "end_time": "2018-08-31T13:05:59.301384Z",
     "start_time": "2018-08-31T13:05:59.297336Z"
    }
   },
   "source": [
    "## 5 - Transductive learning\n",
    "- Subsample your label signal.\n",
    "- Simple label propagation.\n",
    "- TL by minimizing quadratic form. Then, find a threshold.\n",
    "- TL by minimizing graph total variation?\n",
    "    - Relationship with graph cuts\n",
    "- Compare those 3 approaches.\n",
    "    - Error and std. dev. as function of regularization parameter.\n",
    "    - Prediction error as function of m/n for the best regularization parameter."
   ]
  },
  {
   "cell_type": "code",
   "execution_count": null,
   "metadata": {
    "collapsed": true
   },
   "outputs": [],
   "source": [
    "# Your code goes here\n",
    "# BEGIN\n",
    "\n",
    "\n",
    "# END"
   ]
  },
  {
   "cell_type": "markdown",
   "metadata": {},
   "source": [
    "**Answer:** [Your answer goes here]"
   ]
  },
  {
   "cell_type": "markdown",
   "metadata": {},
   "source": [
    "## 6 - Takeaways"
   ]
  },
  {
   "cell_type": "markdown",
   "metadata": {},
   "source": [
    "**Answer:** [Your answer goes here]"
   ]
  }
 ],
 "metadata": {
  "kernel_info": {
   "name": "python3"
  },
  "kernelspec": {
   "display_name": "Python 3",
   "language": "python",
   "name": "python3"
  },
  "language_info": {
   "codemirror_mode": {
    "name": "ipython",
    "version": 3
   },
   "file_extension": ".py",
   "mimetype": "text/x-python",
   "name": "python",
   "nbconvert_exporter": "python",
   "pygments_lexer": "ipython3",
   "version": "3.6.1"
  },
  "latex_envs": {
   "LaTeX_envs_menu_present": true,
   "autoclose": true,
   "autocomplete": true,
   "bibliofile": "biblio.bib",
   "cite_by": "apalike",
   "current_citInitial": 1,
   "eqLabelWithNumbers": true,
   "eqNumInitial": 1,
   "hotkeys": {
    "equation": "Ctrl-E",
    "itemize": "Ctrl-I"
   },
   "labels_anchors": false,
   "latex_user_defs": false,
   "report_style_numbering": false,
   "user_envs_cfg": false
  },
  "nteract": {
   "version": "0.11.6"
  },
  "varInspector": {
   "cols": {
    "lenName": 16,
    "lenType": 16,
    "lenVar": 40
   },
   "kernels_config": {
    "python": {
     "delete_cmd_postfix": "",
     "delete_cmd_prefix": "del ",
     "library": "var_list.py",
     "varRefreshCmd": "print(var_dic_list())"
    },
    "r": {
     "delete_cmd_postfix": ") ",
     "delete_cmd_prefix": "rm(",
     "library": "var_list.r",
     "varRefreshCmd": "cat(var_dic_list()) "
    }
   },
   "types_to_exclude": [
    "module",
    "function",
    "builtin_function_or_method",
    "instance",
    "_Feature"
   ],
   "window_display": false
  }
 },
 "nbformat": 4,
 "nbformat_minor": 2
}
