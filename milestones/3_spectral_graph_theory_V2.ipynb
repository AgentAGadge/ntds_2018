{
 "cells": [
  {
   "cell_type": "markdown",
   "metadata": {},
   "source": [
    "# [NTDS'18] milestone 3: spectral graph theory\n",
    "[ntds'18]: https://github.com/mdeff/ntds_2018\n",
    "\n",
    "[Michaël Defferrard](http://deff.ch), [EPFL LTS2](https://lts2.epfl.ch)"
   ]
  },
  {
   "cell_type": "markdown",
   "metadata": {},
   "source": [
    "## Students\n",
    "\n",
    "* Team: `Team 07`\n",
    "* Students: `Mathieu Lamiot, Julien Heitmann, Louis Landelle, Mathias Goncalves`\n",
    "* Dataset: `US Senators`"
   ]
  },
  {
   "cell_type": "markdown",
   "metadata": {},
   "source": [
    "## Rules\n",
    "\n",
    "* Milestones have to be completed by teams. No collaboration between teams is allowed.\n",
    "* Textual answers shall be short. Typically one to two sentences.\n",
    "* Code has to be clean.\n",
    "* You cannot import any other library than we imported.\n",
    "* When submitting, the notebook is executed and the results are stored. I.e., if you open the notebook again it should show numerical results and plots. We won't be able to execute your notebooks.\n",
    "* The notebook is re-executed from a blank state before submission. That is to be sure it is reproducible. You can click \"Kernel\" then \"Restart & Run All\" in Jupyter."
   ]
  },
  {
   "cell_type": "markdown",
   "metadata": {},
   "source": [
    "## Objective\n",
    "\n",
    "The goal of this milestone is to get familiar with the graph Laplacian and its spectral decomposition."
   ]
  },
  {
   "cell_type": "markdown",
   "metadata": {},
   "source": [
    "## 0 Load your network"
   ]
  },
  {
   "cell_type": "code",
   "execution_count": 1,
   "metadata": {},
   "outputs": [],
   "source": [
    "%matplotlib inline"
   ]
  },
  {
   "cell_type": "markdown",
   "metadata": {},
   "source": [
    "If you get a `No module named 'sklearn'` error when running the below cell, install [scikit-learn](https://scikit-learn.org) with `conda install scikit-learn` (after activating the `ntds_2018` environment)."
   ]
  },
  {
   "cell_type": "code",
   "execution_count": 2,
   "metadata": {},
   "outputs": [],
   "source": [
    "import numpy as np\n",
    "from scipy import sparse\n",
    "import scipy.sparse.linalg\n",
    "import matplotlib.pyplot as plt\n",
    "from sklearn.cluster import KMeans"
   ]
  },
  {
   "cell_type": "markdown",
   "metadata": {},
   "source": [
    "Let's denote your graph as $\\mathcal{G} = (\\mathcal{V}, \\mathcal{E}, A)$, where $\\mathcal{V}$ is the set of nodes, $\\mathcal{E}$ is the set of edges, $A \\in \\mathbb{R}^{N \\times N}$ is the (weighted) adjacency matrix, and $N = |\\mathcal{V}|$ is the number of nodes.\n",
    "\n",
    "Import the adjacency matrix $A$ that you constructed in the first milestone.\n",
    "(You're allowed to update it between milestones if you want to.)"
   ]
  },
  {
   "cell_type": "code",
   "execution_count": 3,
   "metadata": {},
   "outputs": [],
   "source": [
    "adjacency = np.load(\"adjacencyV2.npy\")\n",
    "n_nodes =  adjacency.shape[0]"
   ]
  },
  {
   "cell_type": "markdown",
   "metadata": {},
   "source": [
    "## 1 Graph Laplacian"
   ]
  },
  {
   "cell_type": "markdown",
   "metadata": {},
   "source": [
    "### Question 1\n",
    "\n",
    "From the (weighted) adjacency matrix $A$, compute both the combinatorial (also called unnormalized) and the normalized graph Laplacian matrices.\n",
    "\n",
    "Note: if your graph is weighted, use the weighted adjacency matrix. If not, use the binary adjacency matrix.\n",
    "\n",
    "For efficient storage and computation, store these sparse matrices in a [compressed sparse row (CSR) format](https://en.wikipedia.org/wiki/Sparse_matrix#Compressed_sparse_row_.28CSR.2C_CRS_or_Yale_format.29)."
   ]
  },
  {
   "cell_type": "code",
   "execution_count": 4,
   "metadata": {},
   "outputs": [],
   "source": [
    "degree_vect = np.sum(adjacency,axis=1)\n",
    "degree_matrix = np.diag(degree_vect)\n",
    "\n",
    "laplacian_combinatorial = degree_matrix-adjacency\n",
    "\n",
    "d_inv_sqrt = np.diag(np.power(degree_vect, -0.5))\n",
    "laplacian_normalized = d_inv_sqrt.dot(laplacian_combinatorial).dot(d_inv_sqrt)"
   ]
  },
  {
   "cell_type": "markdown",
   "metadata": {},
   "source": [
    "Use one of them as the graph Laplacian $L$ for the rest of the milestone.\n",
    "We however encourage you to run the code with both to get a sense of the difference!"
   ]
  },
  {
   "cell_type": "code",
   "execution_count": 5,
   "metadata": {},
   "outputs": [],
   "source": [
    "laplacian =  laplacian_normalized\n",
    "laplacian_csr = scipy.sparse.csr_matrix(laplacian)"
   ]
  },
  {
   "cell_type": "markdown",
   "metadata": {},
   "source": [
    "### Question 2\n",
    "\n",
    "Compute the eigendecomposition of the Laplacian $L = U \\Lambda U^\\top$, where the columns $u_k \\in \\mathbb{R}^N$ of $U = [u_1, \\dots, u_N] \\in \\mathbb{R}^{N \\times N}$ are the eigenvectors and the diagonal elements $\\lambda_k = \\Lambda_{kk}$ are the corresponding eigenvalues.\n",
    "\n",
    "Make sure that the eigenvalues are ordered, i.e., $0 = \\lambda_1 \\leq \\lambda_2 \\leq \\dots \\leq \\lambda_N$."
   ]
  },
  {
   "cell_type": "code",
   "execution_count": 6,
   "metadata": {},
   "outputs": [],
   "source": [
    "# Using non-sparse laplacian\n",
    "eigenvalues, eigenvectors = scipy.linalg.eigh(laplacian)\n",
    "eigenvalues_normalized, eigenvectors_normalized = scipy.linalg.eigh(laplacian_normalized)\n",
    "\n",
    "# Using sparse laplacian - Missing the last eigenvalue\n",
    "eigenvalues2, eigenvectors2 = sparse.linalg.eigsh(laplacian_csr, k= n_nodes-1,which = 'SM')\n",
    "\n",
    "assert eigenvectors.shape == (n_nodes, n_nodes)"
   ]
  },
  {
   "cell_type": "markdown",
   "metadata": {},
   "source": [
    "Justify your choice of eigensolver."
   ]
  },
  {
   "cell_type": "markdown",
   "metadata": {},
   "source": [
    "We first tried to take advantage of the sparsity of the laplacian matrix, but unforutnately scipy methods for solving eigenproblems with CSR formatted matrix can't return all the eigenvalues and eigenvectors (k has to be < `n_node`). This limitation prevented us from passing the assertion.\n",
    "So we ended up going for `scipy.linalg.eigh()`, which works on a dense formatted matrix. Our lapacian is real symetric matrix to we can use `scipy.linalg.eigh()` instead of `scipy.linalg.eig()`.\n",
    "\n",
    "Since our network is relatively small, computation is fast enough, even without taking advantage of sparsity. Note that both methods return similar results (except for the last eigenvalue, not returned by the sparse method.)"
   ]
  },
  {
   "cell_type": "markdown",
   "metadata": {},
   "source": [
    "### Question 3\n",
    "\n",
    "We can write $L = S S^\\top$. What is the matrix $S$? What does $S^\\top x$, with $x \\in \\mathbb{R}^N$, compute?"
   ]
  },
  {
   "cell_type": "markdown",
   "metadata": {},
   "source": [
    "It is the incidence matrix. As our graph is weighted and undirected, we took a definition adpated from the one presented in class. It is defined as :\n",
    "\n",
    "$S(i,j) = W_{(i,k)} \\ if e_j=\\{v_i,v_k\\}\\ and \\ i<k \\ for \\ some \\ k $\n",
    "\n",
    "$S(i,j) = -W_{(i,k)} \\ if e_j=\\{v_i,v_k\\}\\ and \\ i>k \\ for \\ some \\ k $\n",
    "\n",
    "$S(i,j) = 0 \\ otherwise$\n",
    "\n",
    "Basically, we make our graph directed (from low-indice vertices to high-indice vertices) is order to be able to apply the definition seen in class. Doing so, the property $L = S S^\\top$ holds, and the the \"smoothness of a signal\" notion is preserved, as discussed in the following."
   ]
  },
  {
   "cell_type": "markdown",
   "metadata": {},
   "source": [
    "### Question 4\n",
    "\n",
    "Show that $\\lambda_k = \\| S^\\top u_k \\|_2^2$, where $\\| \\cdot \\|_2^2$ denotes the squared Euclidean norm (a.k.a. squared $L^2$ norm)."
   ]
  },
  {
   "cell_type": "markdown",
   "metadata": {},
   "source": [
    "**Your answer here.**\n",
    "\n",
    "$\\| S^\\top u_k \\|_2^2 = <S^\\top u_k,S^\\top u_k> = u_k^\\top S S^\\top u_k  = u_k^\\top L u_k $\n",
    "\n",
    "$u_k$ being the k-th eigenvector of L: \n",
    "\n",
    "$\\| S^\\top u_k \\|_2^2 = \\lambda_k <u_k,u_k>$\n",
    "\n",
    "Hence: \n",
    "\n",
    "$\\| S^\\top u_k \\|_2^2 = \\lambda_k$ "
   ]
  },
  {
   "cell_type": "markdown",
   "metadata": {},
   "source": [
    "What does the quantity $\\| S^\\top x \\|_2^2$ tell us about $x$?"
   ]
  },
  {
   "cell_type": "markdown",
   "metadata": {},
   "source": [
    "**Your answer here.**\n",
    "\n",
    "Consider the k-th element of x as a value assigned to the k-th node of the network. Hence x can be seen as a signal over the network. Let $y = S^\\top x $. \n",
    "\n",
    "Then, the k-th element of y is the difference of the signal x between the two nodes linked by the k-th vertex of the network (multiplied by its weigth).\n",
    "\n",
    "Hence, $\\| S^\\top x \\|_2^2$ is the sum of the squares of those differences. It is a measure of the variations of the signal x on the network. High values mean a non-smooth signal over the network, whereas small values reflect a signal with low variations across the network."
   ]
  },
  {
   "cell_type": "markdown",
   "metadata": {},
   "source": [
    "### Question 5\n",
    "\n",
    "What is the value of $u_0$, both for the combinatorial and normalized Laplacians?"
   ]
  },
  {
   "cell_type": "markdown",
   "metadata": {},
   "source": [
    "**Your annswer here.**\n",
    "\n",
    "$u_0$ is an indicator function of a connected component of the graph. In our graph, there is only one connected component, hence $u_0$ is a constant vector, positive on all nodes. This holds for both the combinatorial and normalized Laplacians. Here is the example of the combinatorial laplacian:"
   ]
  },
  {
   "cell_type": "code",
   "execution_count": 7,
   "metadata": {},
   "outputs": [
    {
     "data": {
      "text/plain": [
       "array([0.10464922, 0.09888833, 0.10490187, 0.09793073, 0.09792087,\n",
       "       0.10566489, 0.09242528, 0.10597348, 0.0986302 , 0.1050375 ,\n",
       "       0.09931472, 0.1053016 , 0.09964097, 0.09613999, 0.09956137,\n",
       "       0.10507036, 0.09905222, 0.09831548, 0.10364741, 0.10601392,\n",
       "       0.09761998, 0.10529024, 0.10464652, 0.10431694, 0.10423838,\n",
       "       0.08057469, 0.09806394, 0.09806784, 0.10483715, 0.10534218,\n",
       "       0.09742194, 0.1060492 , 0.10224059, 0.10530731, 0.08835458,\n",
       "       0.1047531 , 0.10511507, 0.08949316, 0.09861727, 0.10565173,\n",
       "       0.0988778 , 0.08220905, 0.10141453, 0.09461739, 0.10595055,\n",
       "       0.10775941, 0.10527377, 0.10471197, 0.10525366, 0.09672708,\n",
       "       0.09865284, 0.10607352, 0.0942213 , 0.09968962, 0.10953784,\n",
       "       0.10390847, 0.09920968, 0.09008112, 0.06022768, 0.09177753,\n",
       "       0.09038772, 0.1051961 , 0.09678025, 0.09096962, 0.10482694,\n",
       "       0.10253704, 0.09950055, 0.09932584, 0.09716498, 0.08808868,\n",
       "       0.10443655, 0.09848814, 0.10473625, 0.09943555, 0.10423468,\n",
       "       0.10602153, 0.10496398, 0.10510641, 0.08154004, 0.10224205,\n",
       "       0.09756696, 0.09876202, 0.10493891, 0.09855102, 0.10551887,\n",
       "       0.09676016, 0.09803122, 0.10468497, 0.09543781, 0.10548259,\n",
       "       0.10579465, 0.10393625, 0.09826835, 0.098594  , 0.09543103,\n",
       "       0.08902902, 0.09882451, 0.10586852, 0.09362502, 0.107222  ])"
      ]
     },
     "execution_count": 7,
     "metadata": {},
     "output_type": "execute_result"
    }
   ],
   "source": [
    "# Indicator function of a single connected component that contains all nodes.\n",
    "eigenvectors[:,0]"
   ]
  },
  {
   "cell_type": "markdown",
   "metadata": {},
   "source": [
    "### Question 6\n",
    "\n",
    "Look at the spectrum of the Laplacian by plotting the eigenvalues.\n",
    "Comment on what you observe."
   ]
  },
  {
   "cell_type": "code",
   "execution_count": 8,
   "metadata": {},
   "outputs": [
    {
     "data": {
      "text/plain": [
       "Text(0,0.5,'Eigenvalue')"
      ]
     },
     "execution_count": 8,
     "metadata": {},
     "output_type": "execute_result"
    },
    {
     "data": {
      "image/png": "[encoded data removed]",
      "text/plain": [
       "<Figure size 432x288 with 1 Axes>"
      ]
     },
     "metadata": {},
     "output_type": "display_data"
    }
   ],
   "source": [
    "# Your code here.\n",
    "plt.plot(eigenvalues)\n",
    "plt.xlabel('Eigenvalue index')\n",
    "plt.ylabel('Eigenvalue')"
   ]
  },
  {
   "cell_type": "markdown",
   "metadata": {},
   "source": [
    "**Your answer here.**\n",
    "\n",
    "The eigenvalues quickly increase: there are just a few low eigenvalues. This tends to show that the network is well connected."
   ]
  },
  {
   "cell_type": "markdown",
   "metadata": {},
   "source": [
    "How many connected components are there in your graph? Answer using the eigenvalues only."
   ]
  },
  {
   "cell_type": "code",
   "execution_count": 9,
   "metadata": {},
   "outputs": [
    {
     "name": "stdout",
     "output_type": "stream",
     "text": [
      "Number of connected components: 1\n"
     ]
    }
   ],
   "source": [
    "# Your code here.\n",
    "tol = 10**(-5);\n",
    "nCC = np.sum(eigenvalues<tol)\n",
    "\n",
    "print(\"Number of connected components: \" + str(nCC))"
   ]
  },
  {
   "cell_type": "markdown",
   "metadata": {},
   "source": [
    "Is there an upper bound on the eigenvalues, i.e., what is the largest possible eigenvalue? Answer for both the combinatorial and normalized Laplacians."
   ]
  },
  {
   "cell_type": "markdown",
   "metadata": {},
   "source": [
    "**Your answer here.**\n",
    "\n",
    "Eigenvalues of the combinatorial laplacian are upper-bounded by $2*degree_{max}$.\n",
    "\n",
    "Eigenvalues of the normalized laplacian are upper-bounded by 2.\n",
    "\n",
    "This comes from the Gershgorin circle theorem applied to the specific structure of the Laplacian."
   ]
  },
  {
   "cell_type": "markdown",
   "metadata": {},
   "source": [
    "## 3 Laplacian eigenmaps\n",
    "\n",
    "*Laplacian eigenmaps* is a method to embed a graph $\\mathcal{G}$ in a $d$-dimensional Euclidean space.\n",
    "That is, it associates a vector $z_i \\in \\mathbb{R}^d$ to every node $v_i \\in \\mathcal{V}$.\n",
    "The graph $\\mathcal{G}$ is thus embedded as $Z \\in \\mathbb{R}^{N \\times d}$.\n",
    "\n",
    "From now on, if your graph has more than one connected component, work with the giant component only."
   ]
  },
  {
   "cell_type": "code",
   "execution_count": 10,
   "metadata": {},
   "outputs": [],
   "source": [
    "# Recreate the full Laplacian\n",
    "adjacency = np.load(\"adjacencyV2.npy\")\n",
    "degree_vect = np.sum(adjacency,axis=1)\n",
    "degree_matrix = np.diag(degree_vect)\n",
    "laplacian = degree_matrix-adjacency\n",
    "\n",
    "#Reconstruct the needed variables\n",
    "laplacian_csr = scipy.sparse.csr_matrix(laplacian)"
   ]
  },
  {
   "cell_type": "markdown",
   "metadata": {},
   "source": [
    "### Question 7\n",
    "\n",
    "What do we use Laplacian eigenmaps for? (Or more generally, graph embeddings.)"
   ]
  },
  {
   "cell_type": "markdown",
   "metadata": {},
   "source": [
    "**Your answer here.**\n",
    "\n",
    "To reduce the dimension of the graph in order to visualize the graph in a lower dimension while keeping some network properties."
   ]
  },
  {
   "cell_type": "markdown",
   "metadata": {},
   "source": [
    "### Question 8\n",
    "\n",
    "Embed your graph in $d=2$ dimensions with Laplacian eigenmaps.\n",
    "Try with and without re-normalizing the eigenvectors by the degrees, then keep the one your prefer.\n",
    "\n",
    "**Recompute** the eigenvectors you need with a partial eigendecomposition method for sparse matrices.\n",
    "When $k \\ll N$ eigenvectors are needed, partial eigendecompositions are much more efficient than complete eigendecompositions.\n",
    "A partial eigendecomposition scales as $\\Omega(k |\\mathcal{E}|$), while a complete eigendecomposition costs $\\mathcal{O}(N^3)$ operations."
   ]
  },
  {
   "cell_type": "code",
   "execution_count": 11,
   "metadata": {},
   "outputs": [],
   "source": [
    "d = 2\n",
    "eig_val, eig_vect = sparse.linalg.eigsh(laplacian_csr, k=d, which = 'SM')\n",
    "Y = eig_vect"
   ]
  },
  {
   "cell_type": "markdown",
   "metadata": {},
   "source": [
    "Plot the nodes embedded in 2D. Comment on what you see."
   ]
  },
  {
   "cell_type": "code",
   "execution_count": 12,
   "metadata": {},
   "outputs": [
    {
     "data": {
      "image/png": "[encoded data removed]",
      "text/plain": [
       "<Figure size 432x288 with 1 Axes>"
      ]
     },
     "metadata": {},
     "output_type": "display_data"
    }
   ],
   "source": [
    "plt.scatter(Y[:,0], Y[:,1])\n",
    "plt.title(\"Scatter plot of 2-Dimensional reduction\")\n",
    "plt.xlabel(\"Dimension 1\")\n",
    "plt.ylabel(\"Dimension 2\")\n",
    "plt.show()"
   ]
  },
  {
   "cell_type": "markdown",
   "metadata": {},
   "source": [
    "**Your answer here.**\n",
    "\n",
    "There are clearly two clusters differentiated thanks to the second dimension: They are probably republicans and democrats. On the first dimension, all vertices have the same location: It is the dimension linked to the eigenvalue 0, hence it is just an indicator of the connected component."
   ]
  },
  {
   "cell_type": "markdown",
   "metadata": {},
   "source": [
    "### Question 9"
   ]
  },
  {
   "cell_type": "markdown",
   "metadata": {},
   "source": [
    "What does the embedding $Z \\in \\mathbb{R}^{N \\times d}$ preserve?"
   ]
  },
  {
   "cell_type": "markdown",
   "metadata": {},
   "source": [
    "**Your answer here.**\n",
    "\n",
    "It preserves the local geometry structure of the graph, hence preserves the communities."
   ]
  },
  {
   "cell_type": "markdown",
   "metadata": {},
   "source": [
    "## 2 Spectral clustering\n",
    "\n",
    "*Spectral clustering* is a method to partition a graph into distinct clusters.\n",
    "The method associates a feature vector $z_i \\in \\mathbb{R}^d$ to every node $v_i \\in \\mathcal{V}$, then runs [$k$-means](https://en.wikipedia.org/wiki/K-means_clustering) in the embedding space $\\mathbb{R}^d$ to assign each node $v_i \\in \\mathcal{V}$ to a cluster $c_j \\in \\mathcal{C}$, where $k = |\\mathcal{C}|$ is the number of desired clusters."
   ]
  },
  {
   "cell_type": "markdown",
   "metadata": {},
   "source": [
    "### Question 10\n",
    "\n",
    "Choose $k$ and $d$. How did you get to those numbers?"
   ]
  },
  {
   "cell_type": "markdown",
   "metadata": {},
   "source": [
    "**Your answer here.**\n",
    "\n",
    "We selected k = 2 as we want to have the separation between the republican and democrats ; and we select d = 2 according to the second point in question 8: It really seems that 2 dimensions are enough to distinguish the two clusters."
   ]
  },
  {
   "cell_type": "markdown",
   "metadata": {},
   "source": [
    "### Question 11\n",
    "\n",
    "1. Embed your graph in $\\mathbb{R}^d$ as $Z \\in \\mathbb{R}^{N \\times d}$.\n",
    "   Try with and without re-normalizing the eigenvectors by the degrees, then keep the one your prefer.\n",
    "1. If you want $k=2$ clusters, partition with the Fiedler vector. For $k > 2$ clusters, run $k$-means on $Z$. Don't implement $k$-means, use the `KMeans` class imported from scikit-learn."
   ]
  },
  {
   "cell_type": "code",
   "execution_count": 13,
   "metadata": {},
   "outputs": [
    {
     "name": "stdout",
     "output_type": "stream",
     "text": [
      "[0 1 0 1 1 0 1 0 1 0 1 0 1 1 1 0 0 1 0 0 1 0 0 0 0 1 1 1 0 0 1 0 0 0 1 0 0\n",
      " 1 1 0 1 1 0 1 0 0 0 0 0 1 1 0 1 1 0 0 1 0 1 1 1 0 1 1 0 0 1 1 1 0 0 1 0 1\n",
      " 0 0 0 0 1 0 1 1 0 1 0 1 1 0 1 0 0 0 1 1 1 1 1 0 1 0]\n"
     ]
    }
   ],
   "source": [
    "d = 2\n",
    "eig_val, eig_vect = sparse.linalg.eigsh(laplacian_csr, k=d, which = 'SM')\n",
    "Fiedler_vector = eig_vect[:,1]\n",
    "clusters = 1*(Fiedler_vector>0)\n",
    "\n",
    "#k=3\n",
    "#kmean = KMeans(n_clusters = k).fit(eig_vect)\n",
    "#clusters = kmean.labels_\n",
    "\n",
    "print(clusters)"
   ]
  },
  {
   "cell_type": "markdown",
   "metadata": {},
   "source": [
    "### Question 12\n",
    "\n",
    "Use the computed cluster assignment to reorder the adjacency matrix $A$.\n",
    "What do you expect? What do you observe?"
   ]
  },
  {
   "cell_type": "code",
   "execution_count": 14,
   "metadata": {},
   "outputs": [
    {
     "data": {
      "image/png": "[encoded data removed]",
      "text/plain": [
       "<Figure size 432x288 with 1 Axes>"
      ]
     },
     "metadata": {},
     "output_type": "display_data"
    }
   ],
   "source": [
    "new_order = np.argsort(clusters)\n",
    "A1 = adjacency[:, new_order][new_order]\n",
    "plt.spy(A1)\n",
    "plt.show()"
   ]
  },
  {
   "cell_type": "markdown",
   "metadata": {},
   "source": [
    "**Your answer here.**\n",
    "We expect a matrix close to a block-diagonal matrix: The strongly connected communities are gathered together and there are almost no connections toward other communities. In fact, this is what we observe: our clusters are well connected inside but poorly connected to each other. Hence, the diagonal blocks are non-zero values and off-diagonal have almost all zero values. "
   ]
  },
  {
   "cell_type": "markdown",
   "metadata": {},
   "source": [
    "### Question 13\n",
    "\n",
    "If you have ground truth clusters for your dataset, compare the cluster assignment from spectral clustering to the ground truth.\n",
    "A simple quantitative measure is to compute the percentage of nodes that have been correctly categorized.\n",
    "If you don't have a ground truth, qualitatively assess the quality of the clustering.\n",
    "\n",
    "Ground truth clusters are the \"real clusters\".\n",
    "For example, the genre of musical tracks in FMA, the category of Wikipedia articles, the spammer status of individuals, etc.\n",
    "Look for the `labels` in the [dataset descriptions](https://github.com/mdeff/ntds_2018/tree/master/projects/README.md)."
   ]
  },
  {
   "cell_type": "code",
   "execution_count": 15,
   "metadata": {},
   "outputs": [],
   "source": [
    "# Your code here.\n",
    "\n",
    "# Load party affiliation list\n",
    "party = np.load(\"party.npy\")\n",
    "\n",
    "# Combine categorization value and ground truth (obtained from party)\n",
    "id_and_party = np.dstack((clusters,party)).squeeze()"
   ]
  },
  {
   "cell_type": "code",
   "execution_count": 16,
   "metadata": {},
   "outputs": [
    {
     "data": {
      "text/plain": [
       "(array([['0', 'R'],\n",
       "        ['1', 'D'],\n",
       "        ['1', 'I']], dtype='<U21'), array([51, 47,  2]))"
      ]
     },
     "execution_count": 16,
     "metadata": {},
     "output_type": "execute_result"
    }
   ],
   "source": [
    "# Compute statistics\n",
    "np.unique(id_and_party, return_counts=True, axis=0)"
   ]
  },
  {
   "cell_type": "markdown",
   "metadata": {},
   "source": [
    "Note that there is neither a \\['1', 'R'\\] tuple nor a \\['0', 'D'\\] tuple. From this we deduce that category 0 corresponds to a Republican, and 1 to a Democrat affiliation. \n",
    "Moreover there are two independent senators that were (falsely?) categorized as Democrats. We made the choice to rather have 2 clusters than 3, since independent senators are in the minority and don't have an common political platform (one of the independent senators, Bernie Sanders, has no party affialiation, but is very much considered a democrat).\n",
    "\n",
    "Hence there are 2 false categorization, out of a 100 senators.\n",
    "\n",
    "Conclusion: 98% of the nodes have been correctly categorized."
   ]
  },
  {
   "cell_type": "markdown",
   "metadata": {},
   "source": [
    "### Question 14\n",
    "\n",
    "Plot the cluster assignment (one color per cluster) on the 2D embedding you computed above with Laplacian eigenmaps."
   ]
  },
  {
   "cell_type": "code",
   "execution_count": 17,
   "metadata": {},
   "outputs": [
    {
     "data": {
      "image/png": "[encoded data removed]",
      "text/plain": [
       "<Figure size 432x288 with 1 Axes>"
      ]
     },
     "metadata": {},
     "output_type": "display_data"
    }
   ],
   "source": [
    "# Your code here.\n",
    "color_map = np.repeat('r', clusters.size)\n",
    "color_map[clusters == 1] = 'b'\n",
    "plt.scatter(Y[:,0], Y[:,1], c=color_map)\n",
    "plt.title(\"Scatter plot of 2-Dimensional reduction, with colors\")\n",
    "plt.xlabel(\"Dimension 1\")\n",
    "plt.ylabel(\"Dimension 2\")\n",
    "plt.show()"
   ]
  },
  {
   "cell_type": "markdown",
   "metadata": {},
   "source": [
    "### Question 15\n",
    "\n",
    "Why did we use the eigenvectors of the graph Laplacian as features? Could we use other features for clustering?"
   ]
  },
  {
   "cell_type": "markdown",
   "metadata": {},
   "source": [
    "We used the Fiedler vector to partition the dataset into two clusters of nodes, because the Fiedler vector is the solution to minimum RatioCut problem (where we are looking for a smooth function over the network, given some constraints). We might as well have used the features (hundreds of votes) that helped us construct the adjacency matrix, even though in this case identifying the two clusters would have been much more costly (computationally). "
   ]
  },
  {
   "cell_type": "code",
   "execution_count": null,
   "metadata": {},
   "outputs": [],
   "source": []
  }
 ],
 "metadata": {
  "kernelspec": {
   "display_name": "Python 3",
   "language": "python",
   "name": "python3"
  },
  "language_info": {
   "codemirror_mode": {
    "name": "ipython",
    "version": 3
   },
   "file_extension": ".py",
   "mimetype": "text/x-python",
   "name": "python",
   "nbconvert_exporter": "python",
   "pygments_lexer": "ipython3",
   "version": "3.6.6"
  }
 },
 "nbformat": 4,
 "nbformat_minor": 2
}
