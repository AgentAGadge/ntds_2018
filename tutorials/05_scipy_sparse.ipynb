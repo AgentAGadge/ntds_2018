{
 "cells": [
  {
   "cell_type": "markdown",
   "metadata": {},
   "source": [
    "# [NTDS'18] tutorial 5: sparse matrices in scipy\n",
    "[ntds'18]: https://github.com/mdeff/ntds_2018\n",
    "\n",
    "[Eda Bayram](http://lts4.epfl.ch/bayram), [EPFL LTS4](http://lts4.epfl.ch)"
   ]
  },
  {
   "cell_type": "markdown",
   "metadata": {},
   "source": [
    "## Ojective\n",
    "\n",
    "This is a short tutorial on the `scipy.sparse` module. We will talk about:\n",
    "\n",
    "1. What is sparsity?\n",
    "2. Sparse matrix storage schemes\n",
    "3. Linear operations on sparse matrices"
   ]
  },
  {
   "cell_type": "code",
   "execution_count": 1,
   "metadata": {},
   "outputs": [],
   "source": [
    "%matplotlib inline"
   ]
  },
  {
   "cell_type": "code",
   "execution_count": 2,
   "metadata": {},
   "outputs": [],
   "source": [
    "import numpy as np\n",
    "import matplotlib.pyplot as plt\n",
    "from scipy import sparse\n",
    "import scipy.sparse.linalg\n",
    "from scipy import linalg\n",
    "import pandas as pd"
   ]
  },
  {
   "cell_type": "markdown",
   "metadata": {},
   "source": [
    "## 1. Sparsity"
   ]
  },
  {
   "cell_type": "markdown",
   "metadata": {},
   "source": [
    "Why do we need data structures for sparse matrices?\n",
    "\n",
    "* Less memory usage\n",
    "* More efficiency computations\n",
    "\n",
    "Most real-world graphs / networks are sparse!"
   ]
  },
  {
   "cell_type": "markdown",
   "metadata": {},
   "source": [
    "Let us create a random sparse matrix and analyze the sparsity."
   ]
  },
  {
   "cell_type": "code",
   "execution_count": 3,
   "metadata": {},
   "outputs": [
    {
     "name": "stdout",
     "output_type": "stream",
     "text": [
      "Number of non-zeros: 625, density: 0.01\n"
     ]
    }
   ],
   "source": [
    "N = 250 \n",
    "dummy = sparse.random(N, N, density=0.01)\n",
    "density = dummy.nnz / N**2\n",
    "print('Number of non-zeros: {}, density: {}'.format(dummy.nnz, density))"
   ]
  },
  {
   "cell_type": "code",
   "execution_count": 4,
   "metadata": {},
   "outputs": [
    {
     "data": {
      "image/png": "[encoded data removed]",
      "text/plain": [
       "<Figure size 432x288 with 1 Axes>"
      ]
     },
     "metadata": {},
     "output_type": "display_data"
    }
   ],
   "source": [
    "plt.spy(dummy, markersize=1);"
   ]
  },
  {
   "cell_type": "code",
   "execution_count": 9,
   "metadata": {},
   "outputs": [
    {
     "name": "stdout",
     "output_type": "stream",
     "text": [
      "  (120, 106)\t0.90979009645458\n",
      "  (13, 214)\t0.8896403382267134\n",
      "  (19, 137)\t0.7071070048459533\n",
      "  (149, 201)\t0.7597007521395931\n",
      "  (51, 13)\t0.3833989742642506\n",
      "  (29, 13)\t0.7671677057776228\n",
      "  (49, 224)\t0.9270543886591858\n",
      "  (175, 113)\t0.15557386323958267\n",
      "  (139, 247)\t0.10478361706432593\n",
      "  (242, 67)\t0.6282368772225041\n",
      "  (236, 81)\t0.0928180345849986\n",
      "  (155, 185)\t0.17978728389465493\n",
      "  (30, 24)\t0.6731138915630996\n",
      "  (101, 237)\t0.464980654585738\n",
      "  (176, 136)\t0.26580433751542676\n",
      "  (78, 95)\t0.3469969956740472\n",
      "  (146, 99)\t0.12740860575292579\n",
      "  (84, 6)\t0.5457083733783045\n",
      "  (155, 230)\t0.26537999800019796\n",
      "  (211, 21)\t0.19200415814541305\n",
      "  (96, 211)\t0.8624533988053941\n",
      "  (119, 205)\t0.2366686149041578\n",
      "  (51, 248)\t0.20735276027909555\n",
      "  (240, 71)\t0.16446543062857966\n",
      "  (96, 196)\t0.23124925769417282\n",
      "  :\t:\n",
      "  (237, 12)\t0.9340248480044506\n",
      "  (101, 122)\t0.9532228159188488\n",
      "  (183, 140)\t0.5211078298361763\n",
      "  (97, 55)\t0.9482854483194048\n",
      "  (42, 119)\t0.35331066452774995\n",
      "  (37, 151)\t0.8236436227883326\n",
      "  (90, 163)\t0.8101642077133933\n",
      "  (59, 154)\t0.13151101979146118\n",
      "  (70, 185)\t0.19050504800856893\n",
      "  (134, 236)\t0.7224911223608551\n",
      "  (182, 205)\t0.41410331900500363\n",
      "  (66, 82)\t0.9715224707785557\n",
      "  (224, 10)\t0.2832190539195817\n",
      "  (244, 76)\t0.25355007715337485\n",
      "  (0, 159)\t0.9018141132534314\n",
      "  (134, 70)\t0.6258205430617361\n",
      "  (246, 91)\t0.34496480406925667\n",
      "  (113, 231)\t0.9973654829021475\n",
      "  (91, 110)\t0.6370152666864809\n",
      "  (163, 89)\t0.5108317692560785\n",
      "  (75, 107)\t0.7592270082263447\n",
      "  (82, 193)\t0.42045273878593736\n",
      "  (208, 197)\t0.908410850575875\n",
      "  (194, 8)\t0.13769453670430065\n",
      "  (107, 88)\t0.3122845428438151\n"
     ]
    }
   ],
   "source": [
    "print(dummy)"
   ]
  },
  {
   "cell_type": "markdown",
   "metadata": {},
   "source": [
    "Let us convert the sparse array to some dense formats."
   ]
  },
  {
   "cell_type": "code",
   "execution_count": 6,
   "metadata": {},
   "outputs": [
    {
     "data": {
      "text/plain": [
       "numpy.ndarray"
      ]
     },
     "execution_count": 6,
     "metadata": {},
     "output_type": "execute_result"
    }
   ],
   "source": [
    "type(dummy.A)"
   ]
  },
  {
   "cell_type": "code",
   "execution_count": 7,
   "metadata": {},
   "outputs": [
    {
     "data": {
      "text/plain": [
       "numpy.ndarray"
      ]
     },
     "execution_count": 7,
     "metadata": {},
     "output_type": "execute_result"
    }
   ],
   "source": [
    "type(dummy.toarray())"
   ]
  },
  {
   "cell_type": "code",
   "execution_count": 8,
   "metadata": {},
   "outputs": [
    {
     "data": {
      "text/plain": [
       "numpy.matrixlib.defmatrix.matrix"
      ]
     },
     "execution_count": 8,
     "metadata": {},
     "output_type": "execute_result"
    }
   ],
   "source": [
    "type(dummy.todense())"
   ]
  },
  {
   "cell_type": "markdown",
   "metadata": {},
   "source": [
    "## 2. Sparse matrix storage schemes\n",
    "\n",
    "The `scipy.sparse` module provides several formats to store sparse matrices.\n",
    "Each format has pros and cons, and some are better for some tasks, such as matrix construction, indexing, or linear operations."
   ]
  },
  {
   "cell_type": "markdown",
   "metadata": {},
   "source": [
    "### 2.1 List of lists format (LIL)\n",
    "\n",
    "* Supports indexing, which cannot be done with other sparse matrix formats.\n",
    "* Changing sparsity structure is efficient, e.g., reading a sparse matrix from a text file."
   ]
  },
  {
   "cell_type": "code",
   "execution_count": 10,
   "metadata": {},
   "outputs": [],
   "source": [
    "# Create an empty lil matrix.\n",
    "mtx = sparse.lil_matrix((4, 5))"
   ]
  },
  {
   "cell_type": "code",
   "execution_count": 11,
   "metadata": {},
   "outputs": [],
   "source": [
    "# Assign some of the indices, i.e., changing the sparsity.\n",
    "mtx[:2, [1, 3]] = np.array([[1, 2], [3, 4]])"
   ]
  },
  {
   "cell_type": "code",
   "execution_count": 12,
   "metadata": {},
   "outputs": [
    {
     "data": {
      "text/plain": [
       "array([[0., 1., 0., 2., 0.],\n",
       "       [0., 3., 0., 4., 0.],\n",
       "       [0., 0., 0., 0., 0.],\n",
       "       [0., 0., 0., 0., 0.]])"
      ]
     },
     "execution_count": 12,
     "metadata": {},
     "output_type": "execute_result"
    }
   ],
   "source": [
    "mtx.toarray()"
   ]
  },
  {
   "cell_type": "code",
   "execution_count": 13,
   "metadata": {},
   "outputs": [
    {
     "data": {
      "text/plain": [
       "array([[0., 1., 0., 2., 0.],\n",
       "       [0., 3., 0., 4., 0.]])"
      ]
     },
     "execution_count": 13,
     "metadata": {},
     "output_type": "execute_result"
    }
   ],
   "source": [
    "# Read some of the indices.\n",
    "mtx[:2].toarray()"
   ]
  },
  {
   "cell_type": "markdown",
   "metadata": {},
   "source": [
    "### 2.2 Coordinate format (COO)\n",
    "\n",
    "A COO matrix is constructed from three lists:\n",
    "* a list of column indices,\n",
    "* a list of row indices,\n",
    "* a list of values,\n",
    "where each element of those lists represents a non-zero element in the resulting sparse matrix.\n",
    "\n",
    "This format is well-adapted to build a sparse adjacency matrix from an edge list."
   ]
  },
  {
   "cell_type": "code",
   "execution_count": 40,
   "metadata": {},
   "outputs": [],
   "source": [
    "row = np.array([0, 3, 1, 0])  # row coordinates\n",
    "col = np.array([0, 3, 1, 2])  # column coordinates\n",
    "data = np.array([4, 5, 7, 9])  # values\n",
    "\n",
    "mtx = sparse.coo_matrix((data, (row, col)), shape=(4, 4))"
   ]
  },
  {
   "cell_type": "code",
   "execution_count": 41,
   "metadata": {},
   "outputs": [
    {
     "data": {
      "text/plain": [
       "array([[4, 0, 9, 0],\n",
       "       [0, 7, 0, 0],\n",
       "       [0, 0, 0, 0],\n",
       "       [0, 0, 0, 5]])"
      ]
     },
     "execution_count": 41,
     "metadata": {},
     "output_type": "execute_result"
    }
   ],
   "source": [
    "mtx.toarray()"
   ]
  },
  {
   "cell_type": "markdown",
   "metadata": {},
   "source": [
    "Advantages:\n",
    "* Fast element-wise operations.\n",
    "* Fast conversion to other sparse formats."
   ]
  },
  {
   "cell_type": "code",
   "execution_count": 16,
   "metadata": {},
   "outputs": [
    {
     "data": {
      "text/plain": [
       "array([[2.        , 0.        , 3.        , 0.        ],\n",
       "       [0.        , 2.64575131, 0.        , 0.        ],\n",
       "       [0.        , 0.        , 0.        , 0.        ],\n",
       "       [0.        , 0.        , 0.        , 2.23606798]])"
      ]
     },
     "execution_count": 16,
     "metadata": {},
     "output_type": "execute_result"
    }
   ],
   "source": [
    "# Element-wise power.\n",
    "mtx.power(0.5).toarray()"
   ]
  },
  {
   "cell_type": "code",
   "execution_count": 17,
   "metadata": {},
   "outputs": [],
   "source": [
    "mtx_csr = mtx.tocsr()"
   ]
  },
  {
   "cell_type": "markdown",
   "metadata": {},
   "source": [
    "Disadvantages:\n",
    "* Indexing is not possible. (Use LIL instead!)\n",
    "* Slow at arithmetic operations. (Use CSR, CSC instead!)"
   ]
  },
  {
   "cell_type": "markdown",
   "metadata": {},
   "source": [
    "**Exercise:** Can you construct the sparse adjacency matrix in `COO` and `LIL` formats for a network given by the following edge list ?"
   ]
  },
  {
   "cell_type": "code",
   "execution_count": 18,
   "metadata": {},
   "outputs": [
    {
     "data": {
      "text/html": [
       "<div>\n",
       "<style scoped>\n",
       "    .dataframe tbody tr th:only-of-type {\n",
       "        vertical-align: middle;\n",
       "    }\n",
       "\n",
       "    .dataframe tbody tr th {\n",
       "        vertical-align: top;\n",
       "    }\n",
       "\n",
       "    .dataframe thead th {\n",
       "        text-align: right;\n",
       "    }\n",
       "</style>\n",
       "<table border=\"1\" class=\"dataframe\">\n",
       "  <thead>\n",
       "    <tr style=\"text-align: right;\">\n",
       "      <th></th>\n",
       "      <th>node_1</th>\n",
       "      <th>node_2</th>\n",
       "      <th>weights</th>\n",
       "    </tr>\n",
       "  </thead>\n",
       "  <tbody>\n",
       "    <tr>\n",
       "      <th>0</th>\n",
       "      <td>1</td>\n",
       "      <td>3</td>\n",
       "      <td>0.6</td>\n",
       "    </tr>\n",
       "    <tr>\n",
       "      <th>1</th>\n",
       "      <td>1</td>\n",
       "      <td>4</td>\n",
       "      <td>0.5</td>\n",
       "    </tr>\n",
       "    <tr>\n",
       "      <th>2</th>\n",
       "      <td>1</td>\n",
       "      <td>5</td>\n",
       "      <td>0.7</td>\n",
       "    </tr>\n",
       "    <tr>\n",
       "      <th>3</th>\n",
       "      <td>2</td>\n",
       "      <td>6</td>\n",
       "      <td>0.1</td>\n",
       "    </tr>\n",
       "    <tr>\n",
       "      <th>4</th>\n",
       "      <td>3</td>\n",
       "      <td>4</td>\n",
       "      <td>0.6</td>\n",
       "    </tr>\n",
       "    <tr>\n",
       "      <th>5</th>\n",
       "      <td>3</td>\n",
       "      <td>5</td>\n",
       "      <td>0.1</td>\n",
       "    </tr>\n",
       "    <tr>\n",
       "      <th>6</th>\n",
       "      <td>3</td>\n",
       "      <td>6</td>\n",
       "      <td>0.9</td>\n",
       "    </tr>\n",
       "  </tbody>\n",
       "</table>\n",
       "</div>"
      ],
      "text/plain": [
       "   node_1  node_2  weights\n",
       "0       1       3      0.6\n",
       "1       1       4      0.5\n",
       "2       1       5      0.7\n",
       "3       2       6      0.1\n",
       "4       3       4      0.6\n",
       "5       3       5      0.1\n",
       "6       3       6      0.9"
      ]
     },
     "execution_count": 18,
     "metadata": {},
     "output_type": "execute_result"
    }
   ],
   "source": [
    "edges = pd.DataFrame(\n",
    "    {\"node_1\": [1,1,1,2,3,3,3],\n",
    "     \"node_2\": [3,4,5,6,4,5,6],\n",
    "     \"weights\": [0.6,0.5,0.7,0.1,0.6,0.1,0.9]\n",
    "    })\n",
    "edges"
   ]
  },
  {
   "cell_type": "code",
   "execution_count": 26,
   "metadata": {},
   "outputs": [],
   "source": [
    "mtx_lil = sparse.lil_matrix((6, 6))\n",
    "mtx_lil[edges[\"node_1\"]-1 , edges[\"node_2\"]-1] = np.array(edges[\"weights\"])\n",
    "mtx_coo = sparse.coo_matrix((edges[\"weights\"], (edges[\"node_1\"]-1, edges[\"node_2\"]-1)), shape=(6, 6))"
   ]
  },
  {
   "cell_type": "markdown",
   "metadata": {},
   "source": [
    "### 2.3 Compressed sparse row & column formats (CSR & CSC)"
   ]
  },
  {
   "cell_type": "code",
   "execution_count": 23,
   "metadata": {},
   "outputs": [
    {
     "data": {
      "text/plain": [
       "array([4, 9, 7, 5], dtype=int32)"
      ]
     },
     "execution_count": 23,
     "metadata": {},
     "output_type": "execute_result"
    }
   ],
   "source": [
    "# Get the data array\n",
    "mtx_csr.data"
   ]
  },
  {
   "cell_type": "markdown",
   "metadata": {},
   "source": [
    "`CSR` is row oriented:\n",
    "* efficient row slicing\n",
    "* fast matrix vector products, the right multiplication `CSR * v`"
   ]
  },
  {
   "cell_type": "code",
   "execution_count": 24,
   "metadata": {},
   "outputs": [
    {
     "data": {
      "text/plain": [
       "array([0, 2, 1, 3], dtype=int32)"
      ]
     },
     "execution_count": 24,
     "metadata": {},
     "output_type": "execute_result"
    }
   ],
   "source": [
    "# Get array of column indices for CSR.\n",
    "mtx_csr.indices"
   ]
  },
  {
   "cell_type": "code",
   "execution_count": 25,
   "metadata": {},
   "outputs": [
    {
     "data": {
      "text/plain": [
       "array([13,  7,  0,  5], dtype=int32)"
      ]
     },
     "execution_count": 25,
     "metadata": {},
     "output_type": "execute_result"
    }
   ],
   "source": [
    "# Matrix-vector product from the right.\n",
    "v = np.array([1, 1, 1, 1])\n",
    "mtx_csr.dot(v)"
   ]
  },
  {
   "cell_type": "code",
   "execution_count": 32,
   "metadata": {},
   "outputs": [],
   "source": [
    "A = sparse.random(10000,10000,density = 0.01)\n",
    "A_csr = A.tocsr()\n",
    "b = np.random.rand(10000)"
   ]
  },
  {
   "cell_type": "code",
   "execution_count": 33,
   "metadata": {},
   "outputs": [
    {
     "name": "stdout",
     "output_type": "stream",
     "text": [
      "1.38 ms ± 4.99 µs per loop (mean ± std. dev. of 7 runs, 1000 loops each)\n",
      "3.26 ms ± 74.9 µs per loop (mean ± std. dev. of 7 runs, 100 loops each)\n"
     ]
    }
   ],
   "source": [
    "%timeit A_csr.dot(b)\n",
    "%timeit A.dot(b)"
   ]
  },
  {
   "cell_type": "markdown",
   "metadata": {},
   "source": [
    "`CSC` is column oriented:\n",
    "* efficient column slicing\n",
    "* fast matrix vector products, the left multiplication `v * CSC`"
   ]
  },
  {
   "cell_type": "code",
   "execution_count": 42,
   "metadata": {},
   "outputs": [
    {
     "data": {
      "text/plain": [
       "array([0, 1, 0, 3], dtype=int32)"
      ]
     },
     "execution_count": 42,
     "metadata": {},
     "output_type": "execute_result"
    }
   ],
   "source": [
    "mtx_csc = mtx.tocsc()\n",
    "# Get array of row indices for CSC\n",
    "mtx_csc.indices"
   ]
  },
  {
   "cell_type": "code",
   "execution_count": 43,
   "metadata": {},
   "outputs": [
    {
     "data": {
      "text/plain": [
       "array([4, 7, 9, 5], dtype=int32)"
      ]
     },
     "execution_count": 43,
     "metadata": {},
     "output_type": "execute_result"
    }
   ],
   "source": [
    "# vectro-matrix product\n",
    "v * mtx_csc"
   ]
  },
  {
   "cell_type": "markdown",
   "metadata": {},
   "source": [
    "Efficient arithmetic operations `CSC + CSC`, `CSR * CSR`, etc."
   ]
  },
  {
   "cell_type": "code",
   "execution_count": 44,
   "metadata": {},
   "outputs": [
    {
     "data": {
      "text/plain": [
       "array([[16,  0, 36,  0],\n",
       "       [ 0, 49,  0,  0],\n",
       "       [ 0,  0,  0,  0],\n",
       "       [ 0,  0,  0, 25]], dtype=int32)"
      ]
     },
     "execution_count": 44,
     "metadata": {},
     "output_type": "execute_result"
    }
   ],
   "source": [
    "# Matrix-Matrix product (* is elementwise product on Numpy!)\n",
    "prod = mtx_csc * mtx_csc\n",
    "prod.toarray()"
   ]
  },
  {
   "cell_type": "code",
   "execution_count": 45,
   "metadata": {},
   "outputs": [
    {
     "data": {
      "text/plain": [
       "array([[16,  0, 36,  0],\n",
       "       [ 0, 49,  0,  0],\n",
       "       [ 0,  0,  0,  0],\n",
       "       [ 0,  0,  0, 25]], dtype=int32)"
      ]
     },
     "execution_count": 45,
     "metadata": {},
     "output_type": "execute_result"
    }
   ],
   "source": [
    "prod = mtx_csr @ mtx_csr # @ is matrix product both on numpy and scipy!\n",
    "prod.toarray()"
   ]
  },
  {
   "cell_type": "markdown",
   "metadata": {},
   "source": [
    "You can read more about sparse matrix storage schemes [on Wikipedia](https://en.wikipedia.org/wiki/Sparse_matrix#Storing_a_sparse_matrix)."
   ]
  },
  {
   "cell_type": "markdown",
   "metadata": {},
   "source": [
    "## 3. Linear agebra on sparse matrices"
   ]
  },
  {
   "cell_type": "markdown",
   "metadata": {},
   "source": [
    "### 3.1 Some basic operations"
   ]
  },
  {
   "cell_type": "code",
   "execution_count": 46,
   "metadata": {},
   "outputs": [
    {
     "data": {
      "text/plain": [
       "array([[1, 0, 3, 0],\n",
       "       [1, 2, 0, 4],\n",
       "       [0, 2, 3, 0],\n",
       "       [0, 0, 3, 4]])"
      ]
     },
     "execution_count": 46,
     "metadata": {},
     "output_type": "execute_result"
    }
   ],
   "source": [
    "# sparse matrix from diagonals\n",
    "A = sparse.spdiags(np.array([[1,2,3,4], [1,2,3,4], [1,2,3,4]]), [-1,0,2], 4, 4)\n",
    "A.toarray()"
   ]
  },
  {
   "cell_type": "markdown",
   "metadata": {},
   "source": [
    "**Inversion of a sparse matrix**"
   ]
  },
  {
   "cell_type": "code",
   "execution_count": 47,
   "metadata": {},
   "outputs": [
    {
     "data": {
      "text/plain": [
       "array([[ 0.66666667,  0.33333333, -0.33333333, -0.33333333],\n",
       "       [-0.16666667,  0.16666667,  0.33333333, -0.16666667],\n",
       "       [ 0.11111111, -0.11111111,  0.11111111,  0.11111111],\n",
       "       [-0.08333333,  0.08333333, -0.08333333,  0.16666667]])"
      ]
     },
     "execution_count": 47,
     "metadata": {},
     "output_type": "execute_result"
    }
   ],
   "source": [
    "A = A.tocsc()  # Convert it to CSC matrix for efficiency.\n",
    "Ainv = sparse.linalg.inv(A)\n",
    "Ainv.toarray()"
   ]
  },
  {
   "cell_type": "code",
   "execution_count": 48,
   "metadata": {},
   "outputs": [
    {
     "data": {
      "text/plain": [
       "8.306623862918075"
      ]
     },
     "execution_count": 48,
     "metadata": {},
     "output_type": "execute_result"
    }
   ],
   "source": [
    "sparse.linalg.norm(A)  # Default to Frobenius norm."
   ]
  },
  {
   "cell_type": "markdown",
   "metadata": {},
   "source": [
    "**Solve $A x = b$**"
   ]
  },
  {
   "cell_type": "code",
   "execution_count": 49,
   "metadata": {},
   "outputs": [
    {
     "data": {
      "text/plain": [
       "array([0.33333333, 0.16666667, 0.22222222, 0.08333333])"
      ]
     },
     "execution_count": 49,
     "metadata": {},
     "output_type": "execute_result"
    }
   ],
   "source": [
    "b = np.array([1, 1, 1, 1])\n",
    "x = sparse.linalg.spsolve(A, b)\n",
    "x"
   ]
  },
  {
   "cell_type": "markdown",
   "metadata": {},
   "source": [
    "### 3.2 Eigenvalue decomposition"
   ]
  },
  {
   "cell_type": "markdown",
   "metadata": {},
   "source": [
    "For the full eigendecomposition of an array, you can use the functions provided by Numpy:\n",
    "* `numpy.linalg.eig`\n",
    "* `numpy.linalg.eigvals`\n",
    "* `numpy.linalg.eigh`\n",
    "* `numpy.linalg.eighvals`\n",
    "\n",
    "Scipy presents more functionality (read [here](https://www.scipy.org/scipylib/faq.html#why-both-numpy-linalg-and-scipy-linalg-what-s-the-difference)) such as solving generalized eigenvalue problem, you can use the functions from Scipy:\n",
    "* `scipy.linalg.eig`\n",
    "* `scipy.linalg.eigvals`\n",
    "* `scipy.linalg.eigh`\n",
    "* `scipy.linalg.eighvals`"
   ]
  },
  {
   "cell_type": "code",
   "execution_count": 50,
   "metadata": {},
   "outputs": [
    {
     "data": {
      "text/plain": [
       "array([1.16822694+2.48096949j, 1.16822694-2.48096949j,\n",
       "       1.57169108+0.j        , 6.09185505+0.j        ])"
      ]
     },
     "execution_count": 50,
     "metadata": {},
     "output_type": "execute_result"
    }
   ],
   "source": [
    "linalg.eigvals(A.toarray())"
   ]
  },
  {
   "cell_type": "markdown",
   "metadata": {},
   "source": [
    "Decomposition of an Hermitian matrix:"
   ]
  },
  {
   "cell_type": "code",
   "execution_count": 51,
   "metadata": {},
   "outputs": [
    {
     "data": {
      "text/plain": [
       "array([0.17157288, 5.82842712])"
      ]
     },
     "execution_count": 51,
     "metadata": {},
     "output_type": "execute_result"
    }
   ],
   "source": [
    "A = np.array([[1, -2j], [2j, 5]])\n",
    "linalg.eigvalsh(A)"
   ]
  },
  {
   "cell_type": "markdown",
   "metadata": {},
   "source": [
    "However, for quickly finding a few eigenvalues of a large sparse matrix, you should use the corresponding functions from the [sparse module](https://docs.scipy.org/doc/scipy/reference/tutorial/arpack.html):\n",
    "\n",
    "* `scipy.sparse.eigs`\n",
    "* `scipy.sparse.eigsh`"
   ]
  },
  {
   "cell_type": "code",
   "execution_count": 52,
   "metadata": {},
   "outputs": [
    {
     "data": {
      "text/plain": [
       "array([-6.85210965e-18+0.00000000e+00j, -3.54278120e-18+0.00000000e+00j,\n",
       "        4.47614764e-18+0.00000000e+00j,  6.85021764e-19+7.70604385e-19j,\n",
       "        6.85021764e-19-7.70604385e-19j])"
      ]
     },
     "execution_count": 52,
     "metadata": {},
     "output_type": "execute_result"
    }
   ],
   "source": [
    "dummy = sparse.random(30, 30, density=0.01)\n",
    "evals, evecs = sparse.linalg.eigs(dummy, k=5, which='SM')\n",
    "evals"
   ]
  },
  {
   "cell_type": "code",
   "execution_count": null,
   "metadata": {},
   "outputs": [],
   "source": []
  },
  {
   "cell_type": "code",
   "execution_count": null,
   "metadata": {},
   "outputs": [],
   "source": []
  }
 ],
 "metadata": {
  "kernelspec": {
   "display_name": "Python 3",
   "language": "python",
   "name": "python3"
  },
  "language_info": {
   "codemirror_mode": {
    "name": "ipython",
    "version": 3
   },
   "file_extension": ".py",
   "mimetype": "text/x-python",
   "name": "python",
   "nbconvert_exporter": "python",
   "pygments_lexer": "ipython3",
   "version": "3.6.6"
  }
 },
 "nbformat": 4,
 "nbformat_minor": 2
}
